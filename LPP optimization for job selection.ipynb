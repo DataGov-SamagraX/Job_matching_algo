{
 "cells": [
  {
   "cell_type": "code",
   "execution_count": 268,
   "id": "35d441fe",
   "metadata": {},
   "outputs": [],
   "source": [
    "import pandas as pd\n",
    "import numpy as np\n",
    "import warnings \n",
    "\n",
    "warnings.filterwarnings(\"ignore\")"
   ]
  },
  {
   "cell_type": "code",
   "execution_count": 269,
   "id": "36263b34",
   "metadata": {},
   "outputs": [],
   "source": [
    "from pulp import *"
   ]
  },
  {
   "cell_type": "code",
   "execution_count": 315,
   "id": "84e42794",
   "metadata": {},
   "outputs": [],
   "source": [
    "user_scores =  pd.read_csv(\"Job_scoring_users.csv\")\n",
    "user_preferences = pd.read_csv(\"user_preferences.csv\")"
   ]
  },
  {
   "cell_type": "code",
   "execution_count": 316,
   "id": "2deb1d3c",
   "metadata": {},
   "outputs": [],
   "source": [
    "users = list(user_scores.Candidate.values)\n",
    "jobs = list( user_scores.columns[1:user_scores.shape[1]].values)\n",
    "user_scores_array = user_scores.iloc[:,range(1,user_scores.shape[1])].values"
   ]
  },
  {
   "cell_type": "code",
   "execution_count": 318,
   "id": "c499b72c",
   "metadata": {},
   "outputs": [
    {
     "name": "stdout",
     "output_type": "stream",
     "text": [
      "  Maximum user score is :  58\n"
     ]
    }
   ],
   "source": [
    "print( \"  Maximum user score is : \" ,user_scores_array.max())"
   ]
  },
  {
   "cell_type": "code",
   "execution_count": 319,
   "id": "176331ff",
   "metadata": {},
   "outputs": [],
   "source": [
    "max_score = 100"
   ]
  },
  {
   "cell_type": "code",
   "execution_count": 320,
   "id": "2638d7c6",
   "metadata": {},
   "outputs": [],
   "source": [
    "user_preferences = user_preferences.replace({\n",
    "    1:5 * max_score, \n",
    "    2:4 * max_score,\n",
    "    3:3 * max_score,\n",
    "    4:2 * max_score,\n",
    "    5:1 * max_score})\n",
    "user_preferences_num_cols =  user_preferences.iloc[:,range(1,user_scores.shape[1])]"
   ]
  },
  {
   "cell_type": "code",
   "execution_count": 292,
   "id": "6bec0964",
   "metadata": {},
   "outputs": [],
   "source": [
    "#user_preferences = user_preferences.replace({1:1,2:0.1,3:0.01,4:0.001,5:0.0001})*10000\n",
    "#user_preferences_num_cols =  user_preferences.iloc[:,range(1,user_scores.shape[1])]"
   ]
  },
  {
   "cell_type": "code",
   "execution_count": 321,
   "id": "90a377a5",
   "metadata": {},
   "outputs": [],
   "source": [
    "user_preferences_0_array =  user_preferences_num_cols.values"
   ]
  },
  {
   "cell_type": "markdown",
   "id": "17128577",
   "metadata": {},
   "source": [
    "### Decision variable: "
   ]
  },
  {
   "cell_type": "code",
   "execution_count": 308,
   "id": "1ea6cd58",
   "metadata": {},
   "outputs": [],
   "source": [
    "prob = LpProblem(\"Matching Jobs\", LpMaximize)\n",
    "y = LpVariable.dicts(\"pair\", [(i,j)  for i in range(len(users)) for j in range(len(jobs)) ] ,cat='Binary')"
   ]
  },
  {
   "cell_type": "markdown",
   "id": "e9cfcf44",
   "metadata": {},
   "source": [
    "### Maximization problem : "
   ]
  },
  {
   "cell_type": "code",
   "execution_count": 323,
   "id": "95b7e480",
   "metadata": {},
   "outputs": [],
   "source": [
    "prob += lpSum([ (user_preferences_0_array[i][j] + user_scores_array[i][j]) * y[(i,j)] for i in range(len(users)) for j in range(len(jobs)) ])"
   ]
  },
  {
   "cell_type": "markdown",
   "id": "65dffb46",
   "metadata": {},
   "source": [
    "### Contraints:"
   ]
  },
  {
   "cell_type": "code",
   "execution_count": 324,
   "id": "cbc44ccb",
   "metadata": {},
   "outputs": [
    {
     "data": {
      "text/plain": [
       "1"
      ]
     },
     "execution_count": 324,
     "metadata": {},
     "output_type": "execute_result"
    }
   ],
   "source": [
    "## each person should be given only one job \n",
    "\n",
    "for i in range(len(users)):\n",
    "    prob += lpSum(y[(i,j)] for j in range(len(jobs))) <= 1\n",
    "\n",
    "## place constraints: \n",
    "for j in [0]:\n",
    "    prob += lpSum(y[(i,j)] for i in range(len(users))) == 4\n",
    "                  \n",
    "for j in [1]:\n",
    "    prob += lpSum(y[(i,j)] for i in range(len(users))) == 2     \n",
    "                  \n",
    "for j in [2]:\n",
    "    prob += lpSum(y[(i,j)] for i in range(len(users))) == 2     \n",
    "                  \n",
    "for j in [3]:\n",
    "    prob += lpSum(y[(i,j)] for i in range(len(users))) == 2     \n",
    "\n",
    "for j in [4]:\n",
    "    prob += lpSum(y[(i,j)] for i in range(len(users))) == 3     \n",
    "    \n",
    "prob.solve()"
   ]
  },
  {
   "cell_type": "markdown",
   "id": "fd481092",
   "metadata": {},
   "source": [
    "### Creating a record of all the score values :"
   ]
  },
  {
   "cell_type": "code",
   "execution_count": 325,
   "id": "769c4c43",
   "metadata": {},
   "outputs": [],
   "source": [
    "scores_array = user_preferences_0_array.copy()\n",
    "scores_array[:,:] = 0\n",
    "\n",
    "for i in range(len(users)):\n",
    "    for j in range(len(jobs)):\n",
    "        scores_array[i,j] = user_preferences_0_array[i][j] + user_scores_array[i][j] "
   ]
  },
  {
   "cell_type": "markdown",
   "id": "d6880e0a",
   "metadata": {},
   "source": [
    "## Presenting results with the cells highlighted "
   ]
  },
  {
   "cell_type": "markdown",
   "id": "998189aa",
   "metadata": {},
   "source": [
    "##### Creating array of matched values: "
   ]
  },
  {
   "cell_type": "code",
   "execution_count": 327,
   "id": "a97f60b5",
   "metadata": {},
   "outputs": [],
   "source": [
    "matches_array =  user_preferences_0_array.copy()\n",
    "matches_array[:,:] = 0\n",
    "\n",
    "for i in range(len(users)):\n",
    "    for j in range(len(jobs)):\n",
    "        matches_array[i,j] =  y[(i,j)].varValue \n",
    "        \n",
    "matches_df =  pd.DataFrame(matches_array, columns =  user_scores.columns[range(1,user_scores.shape[1] )] )\n",
    "matches_df['Candidate'] = user_scores[\"Candidate\"]\n",
    "matches_df =matches_df[user_scores.columns]\n",
    "matches_df"
   ]
  },
  {
   "cell_type": "markdown",
   "id": "2f26cc30",
   "metadata": {},
   "source": [
    "### Combining users preferences and scores :"
   ]
  },
  {
   "cell_type": "code",
   "execution_count": 365,
   "id": "0fbff88d",
   "metadata": {},
   "outputs": [],
   "source": [
    "results_df =  user_scores.copy()\n",
    "for colnames  in results_df.columns[range(1,len(results_df.columns))]:\n",
    "    results_df[colnames] = user_scores[colnames].astype('str') + \",\" + user_preferences[colnames].astype('str')"
   ]
  },
  {
   "cell_type": "markdown",
   "id": "0c51b91a",
   "metadata": {},
   "source": [
    "### Results with coloured tiles : "
   ]
  },
  {
   "cell_type": "code",
   "execution_count": 366,
   "id": "e889d842",
   "metadata": {},
   "outputs": [
    {
     "data": {
      "text/html": [
       "<style type=\"text/css\">\n",
       "#T_a6e5c_row1_col2, #T_a6e5c_row2_col3, #T_a6e5c_row3_col4, #T_a6e5c_row4_col1, #T_a6e5c_row6_col5, #T_a6e5c_row7_col2, #T_a6e5c_row8_col5, #T_a6e5c_row10_col1, #T_a6e5c_row11_col3, #T_a6e5c_row12_col4, #T_a6e5c_row13_col5, #T_a6e5c_row14_col1, #T_a6e5c_row15_col1 {\n",
       "  background-color: yellow;\n",
       "}\n",
       "</style>\n",
       "<table id=\"T_a6e5c\">\n",
       "  <thead>\n",
       "    <tr>\n",
       "      <th class=\"blank level0\" >&nbsp;</th>\n",
       "      <th id=\"T_a6e5c_level0_col0\" class=\"col_heading level0 col0\" >Candidate</th>\n",
       "      <th id=\"T_a6e5c_level0_col1\" class=\"col_heading level0 col1\" >Panchkula</th>\n",
       "      <th id=\"T_a6e5c_level0_col2\" class=\"col_heading level0 col2\" >Ambala</th>\n",
       "      <th id=\"T_a6e5c_level0_col3\" class=\"col_heading level0 col3\" >Faridabad</th>\n",
       "      <th id=\"T_a6e5c_level0_col4\" class=\"col_heading level0 col4\" >Gurgaon</th>\n",
       "      <th id=\"T_a6e5c_level0_col5\" class=\"col_heading level0 col5\" >Panipat</th>\n",
       "    </tr>\n",
       "  </thead>\n",
       "  <tbody>\n",
       "    <tr>\n",
       "      <th id=\"T_a6e5c_level0_row0\" class=\"row_heading level0 row0\" >0</th>\n",
       "      <td id=\"T_a6e5c_row0_col0\" class=\"data row0 col0\" >A</td>\n",
       "      <td id=\"T_a6e5c_row0_col1\" class=\"data row0 col1\" >52,500</td>\n",
       "      <td id=\"T_a6e5c_row0_col2\" class=\"data row0 col2\" >42,400</td>\n",
       "      <td id=\"T_a6e5c_row0_col3\" class=\"data row0 col3\" >12,100</td>\n",
       "      <td id=\"T_a6e5c_row0_col4\" class=\"data row0 col4\" >22,200</td>\n",
       "      <td id=\"T_a6e5c_row0_col5\" class=\"data row0 col5\" >32,300</td>\n",
       "    </tr>\n",
       "    <tr>\n",
       "      <th id=\"T_a6e5c_level0_row1\" class=\"row_heading level0 row1\" >1</th>\n",
       "      <td id=\"T_a6e5c_row1_col0\" class=\"data row1 col0\" >B</td>\n",
       "      <td id=\"T_a6e5c_row1_col1\" class=\"data row1 col1\" >44,400</td>\n",
       "      <td id=\"T_a6e5c_row1_col2\" class=\"data row1 col2\" >54,500</td>\n",
       "      <td id=\"T_a6e5c_row1_col3\" class=\"data row1 col3\" >14,100</td>\n",
       "      <td id=\"T_a6e5c_row1_col4\" class=\"data row1 col4\" >24,200</td>\n",
       "      <td id=\"T_a6e5c_row1_col5\" class=\"data row1 col5\" >34,300</td>\n",
       "    </tr>\n",
       "    <tr>\n",
       "      <th id=\"T_a6e5c_level0_row2\" class=\"row_heading level0 row2\" >2</th>\n",
       "      <td id=\"T_a6e5c_row2_col0\" class=\"data row2 col0\" >C</td>\n",
       "      <td id=\"T_a6e5c_row2_col1\" class=\"data row2 col1\" >45,400</td>\n",
       "      <td id=\"T_a6e5c_row2_col2\" class=\"data row2 col2\" >35,300</td>\n",
       "      <td id=\"T_a6e5c_row2_col3\" class=\"data row2 col3\" >55,500</td>\n",
       "      <td id=\"T_a6e5c_row2_col4\" class=\"data row2 col4\" >15,100</td>\n",
       "      <td id=\"T_a6e5c_row2_col5\" class=\"data row2 col5\" >25,200</td>\n",
       "    </tr>\n",
       "    <tr>\n",
       "      <th id=\"T_a6e5c_level0_row3\" class=\"row_heading level0 row3\" >3</th>\n",
       "      <td id=\"T_a6e5c_row3_col0\" class=\"data row3 col0\" >D</td>\n",
       "      <td id=\"T_a6e5c_row3_col1\" class=\"data row3 col1\" >42,400</td>\n",
       "      <td id=\"T_a6e5c_row3_col2\" class=\"data row3 col2\" >32,300</td>\n",
       "      <td id=\"T_a6e5c_row3_col3\" class=\"data row3 col3\" >12,100</td>\n",
       "      <td id=\"T_a6e5c_row3_col4\" class=\"data row3 col4\" >52,500</td>\n",
       "      <td id=\"T_a6e5c_row3_col5\" class=\"data row3 col5\" >22,200</td>\n",
       "    </tr>\n",
       "    <tr>\n",
       "      <th id=\"T_a6e5c_level0_row4\" class=\"row_heading level0 row4\" >4</th>\n",
       "      <td id=\"T_a6e5c_row4_col0\" class=\"data row4 col0\" >E</td>\n",
       "      <td id=\"T_a6e5c_row4_col1\" class=\"data row4 col1\" >56,500</td>\n",
       "      <td id=\"T_a6e5c_row4_col2\" class=\"data row4 col2\" >46,400</td>\n",
       "      <td id=\"T_a6e5c_row4_col3\" class=\"data row4 col3\" >16,100</td>\n",
       "      <td id=\"T_a6e5c_row4_col4\" class=\"data row4 col4\" >26,200</td>\n",
       "      <td id=\"T_a6e5c_row4_col5\" class=\"data row4 col5\" >36,300</td>\n",
       "    </tr>\n",
       "    <tr>\n",
       "      <th id=\"T_a6e5c_level0_row5\" class=\"row_heading level0 row5\" >5</th>\n",
       "      <td id=\"T_a6e5c_row5_col0\" class=\"data row5 col0\" >F</td>\n",
       "      <td id=\"T_a6e5c_row5_col1\" class=\"data row5 col1\" >49,500</td>\n",
       "      <td id=\"T_a6e5c_row5_col2\" class=\"data row5 col2\" >49,500</td>\n",
       "      <td id=\"T_a6e5c_row5_col3\" class=\"data row5 col3\" >29,200</td>\n",
       "      <td id=\"T_a6e5c_row5_col4\" class=\"data row5 col4\" >39,300</td>\n",
       "      <td id=\"T_a6e5c_row5_col5\" class=\"data row5 col5\" >29,200</td>\n",
       "    </tr>\n",
       "    <tr>\n",
       "      <th id=\"T_a6e5c_level0_row6\" class=\"row_heading level0 row6\" >6</th>\n",
       "      <td id=\"T_a6e5c_row6_col0\" class=\"data row6 col0\" >G</td>\n",
       "      <td id=\"T_a6e5c_row6_col1\" class=\"data row6 col1\" >44,400</td>\n",
       "      <td id=\"T_a6e5c_row6_col2\" class=\"data row6 col2\" >34,300</td>\n",
       "      <td id=\"T_a6e5c_row6_col3\" class=\"data row6 col3\" >14,100</td>\n",
       "      <td id=\"T_a6e5c_row6_col4\" class=\"data row6 col4\" >24,200</td>\n",
       "      <td id=\"T_a6e5c_row6_col5\" class=\"data row6 col5\" >54,500</td>\n",
       "    </tr>\n",
       "    <tr>\n",
       "      <th id=\"T_a6e5c_level0_row7\" class=\"row_heading level0 row7\" >7</th>\n",
       "      <td id=\"T_a6e5c_row7_col0\" class=\"data row7 col0\" >H</td>\n",
       "      <td id=\"T_a6e5c_row7_col1\" class=\"data row7 col1\" >48,400</td>\n",
       "      <td id=\"T_a6e5c_row7_col2\" class=\"data row7 col2\" >58,500</td>\n",
       "      <td id=\"T_a6e5c_row7_col3\" class=\"data row7 col3\" >18,100</td>\n",
       "      <td id=\"T_a6e5c_row7_col4\" class=\"data row7 col4\" >28,200</td>\n",
       "      <td id=\"T_a6e5c_row7_col5\" class=\"data row7 col5\" >38,300</td>\n",
       "    </tr>\n",
       "    <tr>\n",
       "      <th id=\"T_a6e5c_level0_row8\" class=\"row_heading level0 row8\" >8</th>\n",
       "      <td id=\"T_a6e5c_row8_col0\" class=\"data row8 col0\" >I</td>\n",
       "      <td id=\"T_a6e5c_row8_col1\" class=\"data row8 col1\" >54,500</td>\n",
       "      <td id=\"T_a6e5c_row8_col2\" class=\"data row8 col2\" >44,400</td>\n",
       "      <td id=\"T_a6e5c_row8_col3\" class=\"data row8 col3\" >14,100</td>\n",
       "      <td id=\"T_a6e5c_row8_col4\" class=\"data row8 col4\" >24,200</td>\n",
       "      <td id=\"T_a6e5c_row8_col5\" class=\"data row8 col5\" >34,300</td>\n",
       "    </tr>\n",
       "    <tr>\n",
       "      <th id=\"T_a6e5c_level0_row9\" class=\"row_heading level0 row9\" >9</th>\n",
       "      <td id=\"T_a6e5c_row9_col0\" class=\"data row9 col0\" >J</td>\n",
       "      <td id=\"T_a6e5c_row9_col1\" class=\"data row9 col1\" >53,500</td>\n",
       "      <td id=\"T_a6e5c_row9_col2\" class=\"data row9 col2\" >43,400</td>\n",
       "      <td id=\"T_a6e5c_row9_col3\" class=\"data row9 col3\" >13,100</td>\n",
       "      <td id=\"T_a6e5c_row9_col4\" class=\"data row9 col4\" >23,200</td>\n",
       "      <td id=\"T_a6e5c_row9_col5\" class=\"data row9 col5\" >33,300</td>\n",
       "    </tr>\n",
       "    <tr>\n",
       "      <th id=\"T_a6e5c_level0_row10\" class=\"row_heading level0 row10\" >10</th>\n",
       "      <td id=\"T_a6e5c_row10_col0\" class=\"data row10 col0\" >K</td>\n",
       "      <td id=\"T_a6e5c_row10_col1\" class=\"data row10 col1\" >55,500</td>\n",
       "      <td id=\"T_a6e5c_row10_col2\" class=\"data row10 col2\" >45,400</td>\n",
       "      <td id=\"T_a6e5c_row10_col3\" class=\"data row10 col3\" >15,100</td>\n",
       "      <td id=\"T_a6e5c_row10_col4\" class=\"data row10 col4\" >25,200</td>\n",
       "      <td id=\"T_a6e5c_row10_col5\" class=\"data row10 col5\" >35,300</td>\n",
       "    </tr>\n",
       "    <tr>\n",
       "      <th id=\"T_a6e5c_level0_row11\" class=\"row_heading level0 row11\" >11</th>\n",
       "      <td id=\"T_a6e5c_row11_col0\" class=\"data row11 col0\" >L</td>\n",
       "      <td id=\"T_a6e5c_row11_col1\" class=\"data row11 col1\" >47,400</td>\n",
       "      <td id=\"T_a6e5c_row11_col2\" class=\"data row11 col2\" >37,300</td>\n",
       "      <td id=\"T_a6e5c_row11_col3\" class=\"data row11 col3\" >57,500</td>\n",
       "      <td id=\"T_a6e5c_row11_col4\" class=\"data row11 col4\" >17,100</td>\n",
       "      <td id=\"T_a6e5c_row11_col5\" class=\"data row11 col5\" >27,200</td>\n",
       "    </tr>\n",
       "    <tr>\n",
       "      <th id=\"T_a6e5c_level0_row12\" class=\"row_heading level0 row12\" >12</th>\n",
       "      <td id=\"T_a6e5c_row12_col0\" class=\"data row12 col0\" >M</td>\n",
       "      <td id=\"T_a6e5c_row12_col1\" class=\"data row12 col1\" >42,400</td>\n",
       "      <td id=\"T_a6e5c_row12_col2\" class=\"data row12 col2\" >32,300</td>\n",
       "      <td id=\"T_a6e5c_row12_col3\" class=\"data row12 col3\" >12,100</td>\n",
       "      <td id=\"T_a6e5c_row12_col4\" class=\"data row12 col4\" >52,500</td>\n",
       "      <td id=\"T_a6e5c_row12_col5\" class=\"data row12 col5\" >22,200</td>\n",
       "    </tr>\n",
       "    <tr>\n",
       "      <th id=\"T_a6e5c_level0_row13\" class=\"row_heading level0 row13\" >13</th>\n",
       "      <td id=\"T_a6e5c_row13_col0\" class=\"data row13 col0\" >N</td>\n",
       "      <td id=\"T_a6e5c_row13_col1\" class=\"data row13 col1\" >54,500</td>\n",
       "      <td id=\"T_a6e5c_row13_col2\" class=\"data row13 col2\" >44,400</td>\n",
       "      <td id=\"T_a6e5c_row13_col3\" class=\"data row13 col3\" >14,100</td>\n",
       "      <td id=\"T_a6e5c_row13_col4\" class=\"data row13 col4\" >24,200</td>\n",
       "      <td id=\"T_a6e5c_row13_col5\" class=\"data row13 col5\" >34,300</td>\n",
       "    </tr>\n",
       "    <tr>\n",
       "      <th id=\"T_a6e5c_level0_row14\" class=\"row_heading level0 row14\" >14</th>\n",
       "      <td id=\"T_a6e5c_row14_col0\" class=\"data row14 col0\" >O</td>\n",
       "      <td id=\"T_a6e5c_row14_col1\" class=\"data row14 col1\" >56,500</td>\n",
       "      <td id=\"T_a6e5c_row14_col2\" class=\"data row14 col2\" >46,400</td>\n",
       "      <td id=\"T_a6e5c_row14_col3\" class=\"data row14 col3\" >16,100</td>\n",
       "      <td id=\"T_a6e5c_row14_col4\" class=\"data row14 col4\" >26,200</td>\n",
       "      <td id=\"T_a6e5c_row14_col5\" class=\"data row14 col5\" >36,300</td>\n",
       "    </tr>\n",
       "    <tr>\n",
       "      <th id=\"T_a6e5c_level0_row15\" class=\"row_heading level0 row15\" >15</th>\n",
       "      <td id=\"T_a6e5c_row15_col0\" class=\"data row15 col0\" >P</td>\n",
       "      <td id=\"T_a6e5c_row15_col1\" class=\"data row15 col1\" >55,500</td>\n",
       "      <td id=\"T_a6e5c_row15_col2\" class=\"data row15 col2\" >45,400</td>\n",
       "      <td id=\"T_a6e5c_row15_col3\" class=\"data row15 col3\" >15,100</td>\n",
       "      <td id=\"T_a6e5c_row15_col4\" class=\"data row15 col4\" >25,200</td>\n",
       "      <td id=\"T_a6e5c_row15_col5\" class=\"data row15 col5\" >35,300</td>\n",
       "    </tr>\n",
       "  </tbody>\n",
       "</table>\n"
      ],
      "text/plain": [
       "<pandas.io.formats.style.Styler at 0x18149a04700>"
      ]
     },
     "execution_count": 366,
     "metadata": {},
     "output_type": "execute_result"
    }
   ],
   "source": [
    "\n",
    "style_df = (\n",
    "        matches_df == 1                  # Compare DataFrames\n",
    ").replace({\n",
    "    True: 'background-color:yellow',  # True Styles\n",
    "    False: ''                      # False Styles\n",
    "})\n",
    "\n",
    "results_df =  results_df.style.apply(lambda _: style_df, axis=None)\n",
    "results_df"
   ]
  },
  {
   "cell_type": "markdown",
   "id": "2cf79e64",
   "metadata": {},
   "source": [
    "### Caste constraints : "
   ]
  },
  {
   "cell_type": "markdown",
   "id": "adaa8259",
   "metadata": {},
   "source": [
    "Introducing A, F, J  as SC:  "
   ]
  },
  {
   "cell_type": "code",
   "execution_count": 370,
   "id": "70ff4d53",
   "metadata": {},
   "outputs": [],
   "source": [
    "user_SC_index =  [0,5,9]"
   ]
  },
  {
   "cell_type": "markdown",
   "id": "055226a1",
   "metadata": {},
   "source": [
    "Setting 2 as number of SC required : "
   ]
  },
  {
   "cell_type": "code",
   "execution_count": 372,
   "id": "af3ea278",
   "metadata": {},
   "outputs": [],
   "source": [
    "SC_required =  2"
   ]
  },
  {
   "cell_type": "markdown",
   "id": "38ee52cd",
   "metadata": {},
   "source": [
    "### Decision variable: "
   ]
  },
  {
   "cell_type": "code",
   "execution_count": 374,
   "id": "2b8ba324",
   "metadata": {},
   "outputs": [],
   "source": [
    "prob = LpProblem(\"Matching Jobs\", LpMaximize)\n",
    "y = LpVariable.dicts(\"pair\", [(i,j)  for i in range(len(users)) for j in range(len(jobs)) ] ,cat='Binary')"
   ]
  },
  {
   "cell_type": "markdown",
   "id": "6587a98f",
   "metadata": {},
   "source": [
    "### Maximization problem : "
   ]
  },
  {
   "cell_type": "code",
   "execution_count": 375,
   "id": "f71cc353",
   "metadata": {},
   "outputs": [],
   "source": [
    "prob += lpSum([ (user_preferences_0_array[i][j] + user_scores_array[i][j]) * y[(i,j)] for i in range(len(users)) for j in range(len(jobs)) ])"
   ]
  },
  {
   "cell_type": "markdown",
   "id": "45924eda",
   "metadata": {},
   "source": [
    "### Contraints:"
   ]
  },
  {
   "cell_type": "code",
   "execution_count": 376,
   "id": "6878b334",
   "metadata": {},
   "outputs": [
    {
     "data": {
      "text/plain": [
       "1"
      ]
     },
     "execution_count": 376,
     "metadata": {},
     "output_type": "execute_result"
    }
   ],
   "source": [
    "## each person should be given only one job \n",
    "\n",
    "for i in range(len(users)):\n",
    "    prob += lpSum(y[(i,j)] for j in range(len(jobs))) <= 1\n",
    "\n",
    "## place constraints: \n",
    "for j in [0]:\n",
    "    prob += lpSum(y[(i,j)] for i in range(len(users))) == 4\n",
    "                  \n",
    "for j in [1]:\n",
    "    prob += lpSum(y[(i,j)] for i in range(len(users))) == 2     \n",
    "                  \n",
    "for j in [2]:\n",
    "    prob += lpSum(y[(i,j)] for i in range(len(users))) == 2     \n",
    "                  \n",
    "for j in [3]:\n",
    "    prob += lpSum(y[(i,j)] for i in range(len(users))) == 2     \n",
    "\n",
    "for j in [4]:\n",
    "    prob += lpSum(y[(i,j)] for i in range(len(users))) == 3    \n",
    "    \n",
    "    \n",
    "## SC constraints: \n",
    "\n",
    "prob += lpSum([  y[(i,j)] for i in user_SC_index for j in range(len(jobs))  ]) == SC_required\n",
    "    \n",
    "    \n",
    "prob.solve()"
   ]
  },
  {
   "cell_type": "code",
   "execution_count": 378,
   "id": "535ef260",
   "metadata": {},
   "outputs": [
    {
     "data": {
      "text/html": [
       "<style type=\"text/css\">\n",
       "#T_d2870_row0_col5, #T_d2870_row1_col2, #T_d2870_row2_col3, #T_d2870_row3_col4, #T_d2870_row4_col1, #T_d2870_row6_col5, #T_d2870_row7_col2, #T_d2870_row9_col1, #T_d2870_row10_col5, #T_d2870_row11_col3, #T_d2870_row12_col4, #T_d2870_row14_col1, #T_d2870_row15_col1 {\n",
       "  background-color: yellow;\n",
       "}\n",
       "</style>\n",
       "<table id=\"T_d2870\">\n",
       "  <thead>\n",
       "    <tr>\n",
       "      <th class=\"blank level0\" >&nbsp;</th>\n",
       "      <th id=\"T_d2870_level0_col0\" class=\"col_heading level0 col0\" >Candidate</th>\n",
       "      <th id=\"T_d2870_level0_col1\" class=\"col_heading level0 col1\" >Panchkula</th>\n",
       "      <th id=\"T_d2870_level0_col2\" class=\"col_heading level0 col2\" >Ambala</th>\n",
       "      <th id=\"T_d2870_level0_col3\" class=\"col_heading level0 col3\" >Faridabad</th>\n",
       "      <th id=\"T_d2870_level0_col4\" class=\"col_heading level0 col4\" >Gurgaon</th>\n",
       "      <th id=\"T_d2870_level0_col5\" class=\"col_heading level0 col5\" >Panipat</th>\n",
       "    </tr>\n",
       "  </thead>\n",
       "  <tbody>\n",
       "    <tr>\n",
       "      <th id=\"T_d2870_level0_row0\" class=\"row_heading level0 row0\" >0</th>\n",
       "      <td id=\"T_d2870_row0_col0\" class=\"data row0 col0\" >A</td>\n",
       "      <td id=\"T_d2870_row0_col1\" class=\"data row0 col1\" >52,500</td>\n",
       "      <td id=\"T_d2870_row0_col2\" class=\"data row0 col2\" >42,400</td>\n",
       "      <td id=\"T_d2870_row0_col3\" class=\"data row0 col3\" >12,100</td>\n",
       "      <td id=\"T_d2870_row0_col4\" class=\"data row0 col4\" >22,200</td>\n",
       "      <td id=\"T_d2870_row0_col5\" class=\"data row0 col5\" >32,300</td>\n",
       "    </tr>\n",
       "    <tr>\n",
       "      <th id=\"T_d2870_level0_row1\" class=\"row_heading level0 row1\" >1</th>\n",
       "      <td id=\"T_d2870_row1_col0\" class=\"data row1 col0\" >B</td>\n",
       "      <td id=\"T_d2870_row1_col1\" class=\"data row1 col1\" >44,400</td>\n",
       "      <td id=\"T_d2870_row1_col2\" class=\"data row1 col2\" >54,500</td>\n",
       "      <td id=\"T_d2870_row1_col3\" class=\"data row1 col3\" >14,100</td>\n",
       "      <td id=\"T_d2870_row1_col4\" class=\"data row1 col4\" >24,200</td>\n",
       "      <td id=\"T_d2870_row1_col5\" class=\"data row1 col5\" >34,300</td>\n",
       "    </tr>\n",
       "    <tr>\n",
       "      <th id=\"T_d2870_level0_row2\" class=\"row_heading level0 row2\" >2</th>\n",
       "      <td id=\"T_d2870_row2_col0\" class=\"data row2 col0\" >C</td>\n",
       "      <td id=\"T_d2870_row2_col1\" class=\"data row2 col1\" >45,400</td>\n",
       "      <td id=\"T_d2870_row2_col2\" class=\"data row2 col2\" >35,300</td>\n",
       "      <td id=\"T_d2870_row2_col3\" class=\"data row2 col3\" >55,500</td>\n",
       "      <td id=\"T_d2870_row2_col4\" class=\"data row2 col4\" >15,100</td>\n",
       "      <td id=\"T_d2870_row2_col5\" class=\"data row2 col5\" >25,200</td>\n",
       "    </tr>\n",
       "    <tr>\n",
       "      <th id=\"T_d2870_level0_row3\" class=\"row_heading level0 row3\" >3</th>\n",
       "      <td id=\"T_d2870_row3_col0\" class=\"data row3 col0\" >D</td>\n",
       "      <td id=\"T_d2870_row3_col1\" class=\"data row3 col1\" >42,400</td>\n",
       "      <td id=\"T_d2870_row3_col2\" class=\"data row3 col2\" >32,300</td>\n",
       "      <td id=\"T_d2870_row3_col3\" class=\"data row3 col3\" >12,100</td>\n",
       "      <td id=\"T_d2870_row3_col4\" class=\"data row3 col4\" >52,500</td>\n",
       "      <td id=\"T_d2870_row3_col5\" class=\"data row3 col5\" >22,200</td>\n",
       "    </tr>\n",
       "    <tr>\n",
       "      <th id=\"T_d2870_level0_row4\" class=\"row_heading level0 row4\" >4</th>\n",
       "      <td id=\"T_d2870_row4_col0\" class=\"data row4 col0\" >E</td>\n",
       "      <td id=\"T_d2870_row4_col1\" class=\"data row4 col1\" >56,500</td>\n",
       "      <td id=\"T_d2870_row4_col2\" class=\"data row4 col2\" >46,400</td>\n",
       "      <td id=\"T_d2870_row4_col3\" class=\"data row4 col3\" >16,100</td>\n",
       "      <td id=\"T_d2870_row4_col4\" class=\"data row4 col4\" >26,200</td>\n",
       "      <td id=\"T_d2870_row4_col5\" class=\"data row4 col5\" >36,300</td>\n",
       "    </tr>\n",
       "    <tr>\n",
       "      <th id=\"T_d2870_level0_row5\" class=\"row_heading level0 row5\" >5</th>\n",
       "      <td id=\"T_d2870_row5_col0\" class=\"data row5 col0\" >F</td>\n",
       "      <td id=\"T_d2870_row5_col1\" class=\"data row5 col1\" >49,500</td>\n",
       "      <td id=\"T_d2870_row5_col2\" class=\"data row5 col2\" >49,500</td>\n",
       "      <td id=\"T_d2870_row5_col3\" class=\"data row5 col3\" >29,200</td>\n",
       "      <td id=\"T_d2870_row5_col4\" class=\"data row5 col4\" >39,300</td>\n",
       "      <td id=\"T_d2870_row5_col5\" class=\"data row5 col5\" >29,200</td>\n",
       "    </tr>\n",
       "    <tr>\n",
       "      <th id=\"T_d2870_level0_row6\" class=\"row_heading level0 row6\" >6</th>\n",
       "      <td id=\"T_d2870_row6_col0\" class=\"data row6 col0\" >G</td>\n",
       "      <td id=\"T_d2870_row6_col1\" class=\"data row6 col1\" >44,400</td>\n",
       "      <td id=\"T_d2870_row6_col2\" class=\"data row6 col2\" >34,300</td>\n",
       "      <td id=\"T_d2870_row6_col3\" class=\"data row6 col3\" >14,100</td>\n",
       "      <td id=\"T_d2870_row6_col4\" class=\"data row6 col4\" >24,200</td>\n",
       "      <td id=\"T_d2870_row6_col5\" class=\"data row6 col5\" >54,500</td>\n",
       "    </tr>\n",
       "    <tr>\n",
       "      <th id=\"T_d2870_level0_row7\" class=\"row_heading level0 row7\" >7</th>\n",
       "      <td id=\"T_d2870_row7_col0\" class=\"data row7 col0\" >H</td>\n",
       "      <td id=\"T_d2870_row7_col1\" class=\"data row7 col1\" >48,400</td>\n",
       "      <td id=\"T_d2870_row7_col2\" class=\"data row7 col2\" >58,500</td>\n",
       "      <td id=\"T_d2870_row7_col3\" class=\"data row7 col3\" >18,100</td>\n",
       "      <td id=\"T_d2870_row7_col4\" class=\"data row7 col4\" >28,200</td>\n",
       "      <td id=\"T_d2870_row7_col5\" class=\"data row7 col5\" >38,300</td>\n",
       "    </tr>\n",
       "    <tr>\n",
       "      <th id=\"T_d2870_level0_row8\" class=\"row_heading level0 row8\" >8</th>\n",
       "      <td id=\"T_d2870_row8_col0\" class=\"data row8 col0\" >I</td>\n",
       "      <td id=\"T_d2870_row8_col1\" class=\"data row8 col1\" >54,500</td>\n",
       "      <td id=\"T_d2870_row8_col2\" class=\"data row8 col2\" >44,400</td>\n",
       "      <td id=\"T_d2870_row8_col3\" class=\"data row8 col3\" >14,100</td>\n",
       "      <td id=\"T_d2870_row8_col4\" class=\"data row8 col4\" >24,200</td>\n",
       "      <td id=\"T_d2870_row8_col5\" class=\"data row8 col5\" >34,300</td>\n",
       "    </tr>\n",
       "    <tr>\n",
       "      <th id=\"T_d2870_level0_row9\" class=\"row_heading level0 row9\" >9</th>\n",
       "      <td id=\"T_d2870_row9_col0\" class=\"data row9 col0\" >J</td>\n",
       "      <td id=\"T_d2870_row9_col1\" class=\"data row9 col1\" >53,500</td>\n",
       "      <td id=\"T_d2870_row9_col2\" class=\"data row9 col2\" >43,400</td>\n",
       "      <td id=\"T_d2870_row9_col3\" class=\"data row9 col3\" >13,100</td>\n",
       "      <td id=\"T_d2870_row9_col4\" class=\"data row9 col4\" >23,200</td>\n",
       "      <td id=\"T_d2870_row9_col5\" class=\"data row9 col5\" >33,300</td>\n",
       "    </tr>\n",
       "    <tr>\n",
       "      <th id=\"T_d2870_level0_row10\" class=\"row_heading level0 row10\" >10</th>\n",
       "      <td id=\"T_d2870_row10_col0\" class=\"data row10 col0\" >K</td>\n",
       "      <td id=\"T_d2870_row10_col1\" class=\"data row10 col1\" >55,500</td>\n",
       "      <td id=\"T_d2870_row10_col2\" class=\"data row10 col2\" >45,400</td>\n",
       "      <td id=\"T_d2870_row10_col3\" class=\"data row10 col3\" >15,100</td>\n",
       "      <td id=\"T_d2870_row10_col4\" class=\"data row10 col4\" >25,200</td>\n",
       "      <td id=\"T_d2870_row10_col5\" class=\"data row10 col5\" >35,300</td>\n",
       "    </tr>\n",
       "    <tr>\n",
       "      <th id=\"T_d2870_level0_row11\" class=\"row_heading level0 row11\" >11</th>\n",
       "      <td id=\"T_d2870_row11_col0\" class=\"data row11 col0\" >L</td>\n",
       "      <td id=\"T_d2870_row11_col1\" class=\"data row11 col1\" >47,400</td>\n",
       "      <td id=\"T_d2870_row11_col2\" class=\"data row11 col2\" >37,300</td>\n",
       "      <td id=\"T_d2870_row11_col3\" class=\"data row11 col3\" >57,500</td>\n",
       "      <td id=\"T_d2870_row11_col4\" class=\"data row11 col4\" >17,100</td>\n",
       "      <td id=\"T_d2870_row11_col5\" class=\"data row11 col5\" >27,200</td>\n",
       "    </tr>\n",
       "    <tr>\n",
       "      <th id=\"T_d2870_level0_row12\" class=\"row_heading level0 row12\" >12</th>\n",
       "      <td id=\"T_d2870_row12_col0\" class=\"data row12 col0\" >M</td>\n",
       "      <td id=\"T_d2870_row12_col1\" class=\"data row12 col1\" >42,400</td>\n",
       "      <td id=\"T_d2870_row12_col2\" class=\"data row12 col2\" >32,300</td>\n",
       "      <td id=\"T_d2870_row12_col3\" class=\"data row12 col3\" >12,100</td>\n",
       "      <td id=\"T_d2870_row12_col4\" class=\"data row12 col4\" >52,500</td>\n",
       "      <td id=\"T_d2870_row12_col5\" class=\"data row12 col5\" >22,200</td>\n",
       "    </tr>\n",
       "    <tr>\n",
       "      <th id=\"T_d2870_level0_row13\" class=\"row_heading level0 row13\" >13</th>\n",
       "      <td id=\"T_d2870_row13_col0\" class=\"data row13 col0\" >N</td>\n",
       "      <td id=\"T_d2870_row13_col1\" class=\"data row13 col1\" >54,500</td>\n",
       "      <td id=\"T_d2870_row13_col2\" class=\"data row13 col2\" >44,400</td>\n",
       "      <td id=\"T_d2870_row13_col3\" class=\"data row13 col3\" >14,100</td>\n",
       "      <td id=\"T_d2870_row13_col4\" class=\"data row13 col4\" >24,200</td>\n",
       "      <td id=\"T_d2870_row13_col5\" class=\"data row13 col5\" >34,300</td>\n",
       "    </tr>\n",
       "    <tr>\n",
       "      <th id=\"T_d2870_level0_row14\" class=\"row_heading level0 row14\" >14</th>\n",
       "      <td id=\"T_d2870_row14_col0\" class=\"data row14 col0\" >O</td>\n",
       "      <td id=\"T_d2870_row14_col1\" class=\"data row14 col1\" >56,500</td>\n",
       "      <td id=\"T_d2870_row14_col2\" class=\"data row14 col2\" >46,400</td>\n",
       "      <td id=\"T_d2870_row14_col3\" class=\"data row14 col3\" >16,100</td>\n",
       "      <td id=\"T_d2870_row14_col4\" class=\"data row14 col4\" >26,200</td>\n",
       "      <td id=\"T_d2870_row14_col5\" class=\"data row14 col5\" >36,300</td>\n",
       "    </tr>\n",
       "    <tr>\n",
       "      <th id=\"T_d2870_level0_row15\" class=\"row_heading level0 row15\" >15</th>\n",
       "      <td id=\"T_d2870_row15_col0\" class=\"data row15 col0\" >P</td>\n",
       "      <td id=\"T_d2870_row15_col1\" class=\"data row15 col1\" >55,500</td>\n",
       "      <td id=\"T_d2870_row15_col2\" class=\"data row15 col2\" >45,400</td>\n",
       "      <td id=\"T_d2870_row15_col3\" class=\"data row15 col3\" >15,100</td>\n",
       "      <td id=\"T_d2870_row15_col4\" class=\"data row15 col4\" >25,200</td>\n",
       "      <td id=\"T_d2870_row15_col5\" class=\"data row15 col5\" >35,300</td>\n",
       "    </tr>\n",
       "  </tbody>\n",
       "</table>\n"
      ],
      "text/plain": [
       "<pandas.io.formats.style.Styler at 0x1814997b3a0>"
      ]
     },
     "execution_count": 378,
     "metadata": {},
     "output_type": "execute_result"
    }
   ],
   "source": [
    "matches_array =  user_preferences_0_array.copy()\n",
    "matches_array[:,:] = 0\n",
    "\n",
    "for i in range(len(users)):\n",
    "    for j in range(len(jobs)):\n",
    "        matches_array[i,j] =  y[(i,j)].varValue \n",
    "        \n",
    "matches_df =  pd.DataFrame(matches_array, columns =  user_scores.columns[range(1,user_scores.shape[1] )] )\n",
    "matches_df['Candidate'] = user_scores[\"Candidate\"]\n",
    "matches_df =matches_df[user_scores.columns]\n",
    "matches_df\n",
    "\n",
    "results_df =  user_scores.copy()\n",
    "for colnames  in results_df.columns[range(1,len(results_df.columns))]:\n",
    "    results_df[colnames] = user_scores[colnames].astype('str') + \",\" + user_preferences[colnames].astype('str')\n",
    "\n",
    "    \n",
    "style_df = (\n",
    "        matches_df == 1                  # Compare DataFrames\n",
    ").replace({\n",
    "    True: 'background-color:yellow',  # True Styles\n",
    "    False: ''                      # False Styles\n",
    "})    \n",
    "    \n",
    "\n",
    "results_df =  results_df.style.apply(lambda _: style_df, axis=None)\n",
    "results_df"
   ]
  }
 ],
 "metadata": {
  "kernelspec": {
   "display_name": "Python 3 (ipykernel)",
   "language": "python",
   "name": "python3"
  },
  "language_info": {
   "codemirror_mode": {
    "name": "ipython",
    "version": 3
   },
   "file_extension": ".py",
   "mimetype": "text/x-python",
   "name": "python",
   "nbconvert_exporter": "python",
   "pygments_lexer": "ipython3",
   "version": "3.9.12"
  }
 },
 "nbformat": 4,
 "nbformat_minor": 5
}
