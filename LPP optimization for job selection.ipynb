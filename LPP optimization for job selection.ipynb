{
 "cells": [
  {
   "cell_type": "markdown",
   "id": "ea3500f6",
   "metadata": {},
   "source": [
    "### Importing libraries :"
   ]
  },
  {
   "cell_type": "code",
   "execution_count": 65,
   "id": "77c4f864",
   "metadata": {},
   "outputs": [],
   "source": [
    "import pandas as pd\n",
    "import numpy as np\n",
    "import warnings \n",
    "\n",
    "warnings.filterwarnings(\"ignore\")"
   ]
  },
  {
   "cell_type": "code",
   "execution_count": 66,
   "id": "ec473504",
   "metadata": {},
   "outputs": [],
   "source": [
    "from pulp import *"
   ]
  },
  {
   "cell_type": "markdown",
   "id": "21487600",
   "metadata": {},
   "source": [
    "### Importing the csv files created: "
   ]
  },
  {
   "cell_type": "code",
   "execution_count": 67,
   "id": "ab849848",
   "metadata": {},
   "outputs": [],
   "source": [
    "user_eligibility =  pd.read_csv(\"Job_scoring_users.csv\")\n",
    "user_preferences = pd.read_csv(\"user_preferences.csv\")"
   ]
  },
  {
   "cell_type": "markdown",
   "id": "f5eb9c13",
   "metadata": {},
   "source": [
    "#### Looking at the user scores which are purely based on their eligibilty for the job (irrespective of location):"
   ]
  },
  {
   "cell_type": "code",
   "execution_count": 68,
   "id": "059bb5f3",
   "metadata": {},
   "outputs": [
    {
     "data": {
      "text/html": [
       "<div>\n",
       "<style scoped>\n",
       "    .dataframe tbody tr th:only-of-type {\n",
       "        vertical-align: middle;\n",
       "    }\n",
       "\n",
       "    .dataframe tbody tr th {\n",
       "        vertical-align: top;\n",
       "    }\n",
       "\n",
       "    .dataframe thead th {\n",
       "        text-align: right;\n",
       "    }\n",
       "</style>\n",
       "<table border=\"1\" class=\"dataframe\">\n",
       "  <thead>\n",
       "    <tr style=\"text-align: right;\">\n",
       "      <th></th>\n",
       "      <th>Candidate</th>\n",
       "      <th>Panchkula</th>\n",
       "      <th>Ambala</th>\n",
       "      <th>Faridabad</th>\n",
       "      <th>Gurgaon</th>\n",
       "      <th>Panipat</th>\n",
       "    </tr>\n",
       "  </thead>\n",
       "  <tbody>\n",
       "    <tr>\n",
       "      <th>0</th>\n",
       "      <td>A</td>\n",
       "      <td>2</td>\n",
       "      <td>2</td>\n",
       "      <td>2</td>\n",
       "      <td>2</td>\n",
       "      <td>2</td>\n",
       "    </tr>\n",
       "    <tr>\n",
       "      <th>1</th>\n",
       "      <td>B</td>\n",
       "      <td>4</td>\n",
       "      <td>4</td>\n",
       "      <td>4</td>\n",
       "      <td>4</td>\n",
       "      <td>4</td>\n",
       "    </tr>\n",
       "    <tr>\n",
       "      <th>2</th>\n",
       "      <td>C</td>\n",
       "      <td>5</td>\n",
       "      <td>5</td>\n",
       "      <td>5</td>\n",
       "      <td>5</td>\n",
       "      <td>5</td>\n",
       "    </tr>\n",
       "    <tr>\n",
       "      <th>3</th>\n",
       "      <td>D</td>\n",
       "      <td>2</td>\n",
       "      <td>2</td>\n",
       "      <td>2</td>\n",
       "      <td>2</td>\n",
       "      <td>2</td>\n",
       "    </tr>\n",
       "    <tr>\n",
       "      <th>4</th>\n",
       "      <td>E</td>\n",
       "      <td>6</td>\n",
       "      <td>6</td>\n",
       "      <td>6</td>\n",
       "      <td>6</td>\n",
       "      <td>6</td>\n",
       "    </tr>\n",
       "  </tbody>\n",
       "</table>\n",
       "</div>"
      ],
      "text/plain": [
       "  Candidate  Panchkula  Ambala  Faridabad  Gurgaon  Panipat\n",
       "0         A          2       2          2        2        2\n",
       "1         B          4       4          4        4        4\n",
       "2         C          5       5          5        5        5\n",
       "3         D          2       2          2        2        2\n",
       "4         E          6       6          6        6        6"
      ]
     },
     "execution_count": 68,
     "metadata": {},
     "output_type": "execute_result"
    }
   ],
   "source": [
    "user_eligibility.head(5)"
   ]
  },
  {
   "cell_type": "markdown",
   "id": "0c697fa5",
   "metadata": {},
   "source": [
    "#### Looking at the user prefences based on location :"
   ]
  },
  {
   "cell_type": "code",
   "execution_count": 69,
   "id": "a048db9e",
   "metadata": {},
   "outputs": [
    {
     "data": {
      "text/html": [
       "<div>\n",
       "<style scoped>\n",
       "    .dataframe tbody tr th:only-of-type {\n",
       "        vertical-align: middle;\n",
       "    }\n",
       "\n",
       "    .dataframe tbody tr th {\n",
       "        vertical-align: top;\n",
       "    }\n",
       "\n",
       "    .dataframe thead th {\n",
       "        text-align: right;\n",
       "    }\n",
       "</style>\n",
       "<table border=\"1\" class=\"dataframe\">\n",
       "  <thead>\n",
       "    <tr style=\"text-align: right;\">\n",
       "      <th></th>\n",
       "      <th>Candidate</th>\n",
       "      <th>Panchkula</th>\n",
       "      <th>Ambala</th>\n",
       "      <th>Faridabad</th>\n",
       "      <th>Gurgaon</th>\n",
       "      <th>Panipat</th>\n",
       "    </tr>\n",
       "  </thead>\n",
       "  <tbody>\n",
       "    <tr>\n",
       "      <th>0</th>\n",
       "      <td>A</td>\n",
       "      <td>1</td>\n",
       "      <td>2</td>\n",
       "      <td>5</td>\n",
       "      <td>4</td>\n",
       "      <td>3</td>\n",
       "    </tr>\n",
       "    <tr>\n",
       "      <th>1</th>\n",
       "      <td>B</td>\n",
       "      <td>2</td>\n",
       "      <td>1</td>\n",
       "      <td>5</td>\n",
       "      <td>4</td>\n",
       "      <td>3</td>\n",
       "    </tr>\n",
       "    <tr>\n",
       "      <th>2</th>\n",
       "      <td>C</td>\n",
       "      <td>2</td>\n",
       "      <td>3</td>\n",
       "      <td>1</td>\n",
       "      <td>5</td>\n",
       "      <td>4</td>\n",
       "    </tr>\n",
       "    <tr>\n",
       "      <th>3</th>\n",
       "      <td>D</td>\n",
       "      <td>2</td>\n",
       "      <td>3</td>\n",
       "      <td>5</td>\n",
       "      <td>1</td>\n",
       "      <td>4</td>\n",
       "    </tr>\n",
       "    <tr>\n",
       "      <th>4</th>\n",
       "      <td>E</td>\n",
       "      <td>1</td>\n",
       "      <td>2</td>\n",
       "      <td>5</td>\n",
       "      <td>4</td>\n",
       "      <td>3</td>\n",
       "    </tr>\n",
       "  </tbody>\n",
       "</table>\n",
       "</div>"
      ],
      "text/plain": [
       "  Candidate  Panchkula  Ambala  Faridabad  Gurgaon  Panipat\n",
       "0         A          1       2          5        4        3\n",
       "1         B          2       1          5        4        3\n",
       "2         C          2       3          1        5        4\n",
       "3         D          2       3          5        1        4\n",
       "4         E          1       2          5        4        3"
      ]
     },
     "execution_count": 69,
     "metadata": {},
     "output_type": "execute_result"
    }
   ],
   "source": [
    "user_preferences.head(5)"
   ]
  },
  {
   "cell_type": "markdown",
   "id": "3d096dbb",
   "metadata": {},
   "source": [
    "### Deciding the scoring method: "
   ]
  },
  {
   "cell_type": "code",
   "execution_count": 70,
   "id": "4700a2e9",
   "metadata": {},
   "outputs": [],
   "source": [
    "users = list(user_eligibility.Candidate.values)\n",
    "jobs = list( user_eligibility.columns[1:user_eligibility.shape[1]].values)\n",
    "user_eligibility_array = user_eligibility.iloc[:,range(1,user_eligibility.shape[1])].values"
   ]
  },
  {
   "cell_type": "code",
   "execution_count": 71,
   "id": "25447d14",
   "metadata": {},
   "outputs": [
    {
     "name": "stdout",
     "output_type": "stream",
     "text": [
      "  Maximum user score is :  8\n"
     ]
    }
   ],
   "source": [
    "print( \"  Maximum user score is : \" ,user_eligibility_array.max())"
   ]
  },
  {
   "cell_type": "markdown",
   "id": "6d399e07",
   "metadata": {},
   "source": [
    "The maximum score provided for scoring the user (without considering the user preferences) is 8\n",
    "\n",
    "If we build our user preferences and scoring such that the difference between any 2 levels is more than this maximum score, it'll ensure that user preferences are of foremost priority in job matching. That is, even if a user is scored very low then other location user will not be selected for the same job"
   ]
  },
  {
   "cell_type": "code",
   "execution_count": 72,
   "id": "2473744c",
   "metadata": {},
   "outputs": [],
   "source": [
    "max_score = 10"
   ]
  },
  {
   "cell_type": "code",
   "execution_count": 73,
   "id": "e11c5b27",
   "metadata": {},
   "outputs": [],
   "source": [
    "user_preferences = user_preferences.replace({\n",
    "    1:5 * max_score, \n",
    "    2:4 * max_score,\n",
    "    3:3 * max_score,\n",
    "    4:2 * max_score,\n",
    "    5:1 * max_score})\n",
    "user_preferences_num_cols =  user_preferences.iloc[:,range(1,user_eligibility.shape[1])]"
   ]
  },
  {
   "cell_type": "markdown",
   "id": "df8afd03",
   "metadata": {},
   "source": [
    "#### Looking at the modified user preferences table: "
   ]
  },
  {
   "cell_type": "code",
   "execution_count": 74,
   "id": "8e666b37",
   "metadata": {},
   "outputs": [
    {
     "data": {
      "text/html": [
       "<div>\n",
       "<style scoped>\n",
       "    .dataframe tbody tr th:only-of-type {\n",
       "        vertical-align: middle;\n",
       "    }\n",
       "\n",
       "    .dataframe tbody tr th {\n",
       "        vertical-align: top;\n",
       "    }\n",
       "\n",
       "    .dataframe thead th {\n",
       "        text-align: right;\n",
       "    }\n",
       "</style>\n",
       "<table border=\"1\" class=\"dataframe\">\n",
       "  <thead>\n",
       "    <tr style=\"text-align: right;\">\n",
       "      <th></th>\n",
       "      <th>Candidate</th>\n",
       "      <th>Panchkula</th>\n",
       "      <th>Ambala</th>\n",
       "      <th>Faridabad</th>\n",
       "      <th>Gurgaon</th>\n",
       "      <th>Panipat</th>\n",
       "    </tr>\n",
       "  </thead>\n",
       "  <tbody>\n",
       "    <tr>\n",
       "      <th>0</th>\n",
       "      <td>A</td>\n",
       "      <td>50</td>\n",
       "      <td>40</td>\n",
       "      <td>10</td>\n",
       "      <td>20</td>\n",
       "      <td>30</td>\n",
       "    </tr>\n",
       "    <tr>\n",
       "      <th>1</th>\n",
       "      <td>B</td>\n",
       "      <td>40</td>\n",
       "      <td>50</td>\n",
       "      <td>10</td>\n",
       "      <td>20</td>\n",
       "      <td>30</td>\n",
       "    </tr>\n",
       "    <tr>\n",
       "      <th>2</th>\n",
       "      <td>C</td>\n",
       "      <td>40</td>\n",
       "      <td>30</td>\n",
       "      <td>50</td>\n",
       "      <td>10</td>\n",
       "      <td>20</td>\n",
       "    </tr>\n",
       "    <tr>\n",
       "      <th>3</th>\n",
       "      <td>D</td>\n",
       "      <td>40</td>\n",
       "      <td>30</td>\n",
       "      <td>10</td>\n",
       "      <td>50</td>\n",
       "      <td>20</td>\n",
       "    </tr>\n",
       "    <tr>\n",
       "      <th>4</th>\n",
       "      <td>E</td>\n",
       "      <td>50</td>\n",
       "      <td>40</td>\n",
       "      <td>10</td>\n",
       "      <td>20</td>\n",
       "      <td>30</td>\n",
       "    </tr>\n",
       "  </tbody>\n",
       "</table>\n",
       "</div>"
      ],
      "text/plain": [
       "  Candidate  Panchkula  Ambala  Faridabad  Gurgaon  Panipat\n",
       "0         A         50      40         10       20       30\n",
       "1         B         40      50         10       20       30\n",
       "2         C         40      30         50       10       20\n",
       "3         D         40      30         10       50       20\n",
       "4         E         50      40         10       20       30"
      ]
     },
     "execution_count": 74,
     "metadata": {},
     "output_type": "execute_result"
    }
   ],
   "source": [
    "user_preferences.head(5)"
   ]
  },
  {
   "cell_type": "code",
   "execution_count": 75,
   "id": "ca72ed8a",
   "metadata": {},
   "outputs": [],
   "source": [
    "user_preferences_0_array =  user_preferences_num_cols.values"
   ]
  },
  {
   "cell_type": "markdown",
   "id": "0f60de2f",
   "metadata": {},
   "source": [
    "We now have two matrices representing the user preferences and the user eligibility. "
   ]
  },
  {
   "cell_type": "code",
   "execution_count": 76,
   "id": "bd6b0493",
   "metadata": {},
   "outputs": [
    {
     "name": "stdout",
     "output_type": "stream",
     "text": [
      "User preferences matrix : \n",
      " [[50 40 10 20 30]\n",
      " [40 50 10 20 30]\n",
      " [40 30 50 10 20]\n",
      " [40 30 10 50 20]\n",
      " [50 40 10 20 30]\n",
      " [50 50 20 30 20]\n",
      " [40 30 10 20 50]\n",
      " [40 50 10 20 30]\n",
      " [50 40 10 20 30]\n",
      " [50 40 10 20 30]\n",
      " [50 40 10 20 30]\n",
      " [40 30 50 10 20]\n",
      " [40 30 10 50 20]\n",
      " [50 40 10 20 30]\n",
      " [50 40 10 20 30]\n",
      " [50 40 10 20 30]] \n",
      "\n",
      "User elgibility matrix : \n",
      " [[2 2 2 2 2]\n",
      " [4 4 4 4 4]\n",
      " [5 5 5 5 5]\n",
      " [2 2 2 2 2]\n",
      " [6 6 6 6 6]\n",
      " [2 2 2 2 2]\n",
      " [4 4 4 4 4]\n",
      " [8 8 8 8 8]\n",
      " [4 4 4 4 4]\n",
      " [3 3 3 3 3]\n",
      " [5 5 5 5 5]\n",
      " [7 7 7 7 7]\n",
      " [2 2 2 2 2]\n",
      " [4 4 4 4 4]\n",
      " [6 6 6 6 6]\n",
      " [5 5 5 5 5]]\n"
     ]
    }
   ],
   "source": [
    "print (\"User preferences matrix : \\n\" , user_preferences_0_array, \"\\n\")\n",
    "\n",
    "print (\"User elgibility matrix : \\n\" , user_eligibility_array)"
   ]
  },
  {
   "cell_type": "markdown",
   "id": "2d890399",
   "metadata": {},
   "source": [
    "### Decision variable: "
   ]
  },
  {
   "cell_type": "markdown",
   "id": "679d1e00",
   "metadata": {},
   "source": [
    "Creating a variable y such that it is 1 if the job is alloted to the user and 0 if it isn't "
   ]
  },
  {
   "cell_type": "code",
   "execution_count": 77,
   "id": "28939828",
   "metadata": {},
   "outputs": [],
   "source": [
    "prob = LpProblem(\"Matching Jobs\", LpMaximize)\n",
    "y = LpVariable.dicts(\"pair\", [(i,j)  for i in range(len(users)) for j in range(len(jobs)) ] ,cat='Binary')"
   ]
  },
  {
   "cell_type": "markdown",
   "id": "7d381839",
   "metadata": {},
   "source": [
    "y can be visualized as matrix of the same shape as the user_preferences and user_elibility matrix except that it can only have values 0/1. Each row is a user to whom job has to be allocated and each column is each location. A value of 1 means that the user has been allocated a job in that particular city and 0 means job has not been allocated"
   ]
  },
  {
   "cell_type": "markdown",
   "id": "943cdf9e",
   "metadata": {},
   "source": [
    "### Maximization problem (objective function) : "
   ]
  },
  {
   "cell_type": "markdown",
   "id": "8b4348d0",
   "metadata": {},
   "source": [
    "Setting the objective function which is to select the users such that score (sum of user preference score and the eligibility score) is maximized"
   ]
  },
  {
   "cell_type": "code",
   "execution_count": 78,
   "id": "aa9455ba",
   "metadata": {},
   "outputs": [],
   "source": [
    "prob += lpSum([ (user_preferences_0_array[i][j] + user_eligibility_array[i][j]) * y[(i,j)] for i in range(len(users)) for j in range(len(jobs)) ])"
   ]
  },
  {
   "cell_type": "markdown",
   "id": "dfb9642a",
   "metadata": {},
   "source": [
    "### Contraints:"
   ]
  },
  {
   "cell_type": "markdown",
   "id": "02ddea0c",
   "metadata": {},
   "source": [
    "Setting the constraints. There are 3 constraints : \n",
    "- Each person should have only job. Jobs from multiple locations should not be allocated to the same person\n",
    "- Constraints for number of jobs required for each location. e.g. Panchkula requires 4 jobs. So 4 users have to be allocated to Panchkula. i.e. y[i,j] should sum up to 4 for the column that represents Panchkula\n"
   ]
  },
  {
   "cell_type": "code",
   "execution_count": 79,
   "id": "768b373e",
   "metadata": {},
   "outputs": [
    {
     "data": {
      "text/plain": [
       "1"
      ]
     },
     "execution_count": 79,
     "metadata": {},
     "output_type": "execute_result"
    }
   ],
   "source": [
    "## each person should be given only one job \n",
    "\n",
    "for i in range(len(users)):\n",
    "    prob += lpSum(y[(i,j)] for j in range(len(jobs))) <= 1\n",
    "\n",
    "## Place constraints: For each location, the number of users required is defined\n",
    "for j in [0]:\n",
    "    prob += lpSum(y[(i,j)] for i in range(len(users))) == 4\n",
    "                  \n",
    "for j in [1]:\n",
    "    prob += lpSum(y[(i,j)] for i in range(len(users))) == 2     \n",
    "                  \n",
    "for j in [2]:\n",
    "    prob += lpSum(y[(i,j)] for i in range(len(users))) == 2     \n",
    "                  \n",
    "for j in [3]:\n",
    "    prob += lpSum(y[(i,j)] for i in range(len(users))) == 2     \n",
    "\n",
    "for j in [4]:\n",
    "    prob += lpSum(y[(i,j)] for i in range(len(users))) == 3     \n",
    "\n",
    "## Solving the LPP\n",
    "prob.solve()"
   ]
  },
  {
   "cell_type": "markdown",
   "id": "fb942e59",
   "metadata": {},
   "source": [
    "The LPP has been solved in the previous step "
   ]
  },
  {
   "cell_type": "markdown",
   "id": "c2445d70",
   "metadata": {},
   "source": [
    "## Results:"
   ]
  },
  {
   "cell_type": "markdown",
   "id": "1d5e4d3a",
   "metadata": {},
   "source": [
    "##### Creating matrix which shows the  matched values: "
   ]
  },
  {
   "cell_type": "code",
   "execution_count": 80,
   "id": "6b88c1e8",
   "metadata": {},
   "outputs": [
    {
     "data": {
      "text/html": [
       "<div>\n",
       "<style scoped>\n",
       "    .dataframe tbody tr th:only-of-type {\n",
       "        vertical-align: middle;\n",
       "    }\n",
       "\n",
       "    .dataframe tbody tr th {\n",
       "        vertical-align: top;\n",
       "    }\n",
       "\n",
       "    .dataframe thead th {\n",
       "        text-align: right;\n",
       "    }\n",
       "</style>\n",
       "<table border=\"1\" class=\"dataframe\">\n",
       "  <thead>\n",
       "    <tr style=\"text-align: right;\">\n",
       "      <th></th>\n",
       "      <th>Candidate</th>\n",
       "      <th>Panchkula</th>\n",
       "      <th>Ambala</th>\n",
       "      <th>Faridabad</th>\n",
       "      <th>Gurgaon</th>\n",
       "      <th>Panipat</th>\n",
       "    </tr>\n",
       "  </thead>\n",
       "  <tbody>\n",
       "    <tr>\n",
       "      <th>0</th>\n",
       "      <td>A</td>\n",
       "      <td>0</td>\n",
       "      <td>0</td>\n",
       "      <td>0</td>\n",
       "      <td>0</td>\n",
       "      <td>0</td>\n",
       "    </tr>\n",
       "    <tr>\n",
       "      <th>1</th>\n",
       "      <td>B</td>\n",
       "      <td>0</td>\n",
       "      <td>1</td>\n",
       "      <td>0</td>\n",
       "      <td>0</td>\n",
       "      <td>0</td>\n",
       "    </tr>\n",
       "    <tr>\n",
       "      <th>2</th>\n",
       "      <td>C</td>\n",
       "      <td>0</td>\n",
       "      <td>0</td>\n",
       "      <td>1</td>\n",
       "      <td>0</td>\n",
       "      <td>0</td>\n",
       "    </tr>\n",
       "    <tr>\n",
       "      <th>3</th>\n",
       "      <td>D</td>\n",
       "      <td>0</td>\n",
       "      <td>0</td>\n",
       "      <td>0</td>\n",
       "      <td>1</td>\n",
       "      <td>0</td>\n",
       "    </tr>\n",
       "    <tr>\n",
       "      <th>4</th>\n",
       "      <td>E</td>\n",
       "      <td>1</td>\n",
       "      <td>0</td>\n",
       "      <td>0</td>\n",
       "      <td>0</td>\n",
       "      <td>0</td>\n",
       "    </tr>\n",
       "    <tr>\n",
       "      <th>5</th>\n",
       "      <td>F</td>\n",
       "      <td>0</td>\n",
       "      <td>0</td>\n",
       "      <td>0</td>\n",
       "      <td>0</td>\n",
       "      <td>0</td>\n",
       "    </tr>\n",
       "    <tr>\n",
       "      <th>6</th>\n",
       "      <td>G</td>\n",
       "      <td>0</td>\n",
       "      <td>0</td>\n",
       "      <td>0</td>\n",
       "      <td>0</td>\n",
       "      <td>1</td>\n",
       "    </tr>\n",
       "    <tr>\n",
       "      <th>7</th>\n",
       "      <td>H</td>\n",
       "      <td>0</td>\n",
       "      <td>1</td>\n",
       "      <td>0</td>\n",
       "      <td>0</td>\n",
       "      <td>0</td>\n",
       "    </tr>\n",
       "    <tr>\n",
       "      <th>8</th>\n",
       "      <td>I</td>\n",
       "      <td>0</td>\n",
       "      <td>0</td>\n",
       "      <td>0</td>\n",
       "      <td>0</td>\n",
       "      <td>1</td>\n",
       "    </tr>\n",
       "    <tr>\n",
       "      <th>9</th>\n",
       "      <td>J</td>\n",
       "      <td>0</td>\n",
       "      <td>0</td>\n",
       "      <td>0</td>\n",
       "      <td>0</td>\n",
       "      <td>0</td>\n",
       "    </tr>\n",
       "    <tr>\n",
       "      <th>10</th>\n",
       "      <td>K</td>\n",
       "      <td>1</td>\n",
       "      <td>0</td>\n",
       "      <td>0</td>\n",
       "      <td>0</td>\n",
       "      <td>0</td>\n",
       "    </tr>\n",
       "    <tr>\n",
       "      <th>11</th>\n",
       "      <td>L</td>\n",
       "      <td>0</td>\n",
       "      <td>0</td>\n",
       "      <td>1</td>\n",
       "      <td>0</td>\n",
       "      <td>0</td>\n",
       "    </tr>\n",
       "    <tr>\n",
       "      <th>12</th>\n",
       "      <td>M</td>\n",
       "      <td>0</td>\n",
       "      <td>0</td>\n",
       "      <td>0</td>\n",
       "      <td>1</td>\n",
       "      <td>0</td>\n",
       "    </tr>\n",
       "    <tr>\n",
       "      <th>13</th>\n",
       "      <td>N</td>\n",
       "      <td>0</td>\n",
       "      <td>0</td>\n",
       "      <td>0</td>\n",
       "      <td>0</td>\n",
       "      <td>1</td>\n",
       "    </tr>\n",
       "    <tr>\n",
       "      <th>14</th>\n",
       "      <td>O</td>\n",
       "      <td>1</td>\n",
       "      <td>0</td>\n",
       "      <td>0</td>\n",
       "      <td>0</td>\n",
       "      <td>0</td>\n",
       "    </tr>\n",
       "    <tr>\n",
       "      <th>15</th>\n",
       "      <td>P</td>\n",
       "      <td>1</td>\n",
       "      <td>0</td>\n",
       "      <td>0</td>\n",
       "      <td>0</td>\n",
       "      <td>0</td>\n",
       "    </tr>\n",
       "  </tbody>\n",
       "</table>\n",
       "</div>"
      ],
      "text/plain": [
       "   Candidate  Panchkula  Ambala  Faridabad  Gurgaon  Panipat\n",
       "0          A          0       0          0        0        0\n",
       "1          B          0       1          0        0        0\n",
       "2          C          0       0          1        0        0\n",
       "3          D          0       0          0        1        0\n",
       "4          E          1       0          0        0        0\n",
       "5          F          0       0          0        0        0\n",
       "6          G          0       0          0        0        1\n",
       "7          H          0       1          0        0        0\n",
       "8          I          0       0          0        0        1\n",
       "9          J          0       0          0        0        0\n",
       "10         K          1       0          0        0        0\n",
       "11         L          0       0          1        0        0\n",
       "12         M          0       0          0        1        0\n",
       "13         N          0       0          0        0        1\n",
       "14         O          1       0          0        0        0\n",
       "15         P          1       0          0        0        0"
      ]
     },
     "execution_count": 80,
     "metadata": {},
     "output_type": "execute_result"
    }
   ],
   "source": [
    "matches_array =  user_preferences_0_array.copy()\n",
    "matches_array[:,:] = 0\n",
    "\n",
    "for i in range(len(users)):\n",
    "    for j in range(len(jobs)):\n",
    "        matches_array[i,j] =  y[(i,j)].varValue \n",
    "        \n",
    "matches_df =  pd.DataFrame(matches_array, columns =  user_eligibility.columns[range(1,user_eligibility.shape[1] )] )\n",
    "matches_df['Candidate'] = user_eligibility[\"Candidate\"]\n",
    "matches_df =matches_df[user_eligibility.columns]\n",
    "matches_df"
   ]
  },
  {
   "cell_type": "markdown",
   "id": "5ad36e83",
   "metadata": {},
   "source": [
    "The above table shows which users have been matched to which jobs. This is the optimum y matrix. \n",
    "e.g. User E has been matched to Panchkula and not matched to any other job"
   ]
  },
  {
   "cell_type": "markdown",
   "id": "b3ad127c",
   "metadata": {},
   "source": [
    "##### Visualizing the scoring summation :"
   ]
  },
  {
   "cell_type": "markdown",
   "id": "b5e72eb8",
   "metadata": {},
   "source": [
    "Showing the matrix that get selected as the optimum solution : "
   ]
  },
  {
   "cell_type": "code",
   "execution_count": 81,
   "id": "d66cb29a",
   "metadata": {},
   "outputs": [
    {
     "data": {
      "text/plain": [
       "array([[ 0,  0,  0,  0,  0],\n",
       "       [ 0, 54,  0,  0,  0],\n",
       "       [ 0,  0, 55,  0,  0],\n",
       "       [ 0,  0,  0, 52,  0],\n",
       "       [56,  0,  0,  0,  0],\n",
       "       [ 0,  0,  0,  0,  0],\n",
       "       [ 0,  0,  0,  0, 54],\n",
       "       [ 0, 58,  0,  0,  0],\n",
       "       [ 0,  0,  0,  0, 34],\n",
       "       [ 0,  0,  0,  0,  0],\n",
       "       [55,  0,  0,  0,  0],\n",
       "       [ 0,  0, 57,  0,  0],\n",
       "       [ 0,  0,  0, 52,  0],\n",
       "       [ 0,  0,  0,  0, 34],\n",
       "       [56,  0,  0,  0,  0],\n",
       "       [55,  0,  0,  0,  0]], dtype=int64)"
      ]
     },
     "execution_count": 81,
     "metadata": {},
     "output_type": "execute_result"
    }
   ],
   "source": [
    "scores_array = user_preferences_0_array.copy()\n",
    "scores_array[:,:] = 0\n",
    "\n",
    "for i in range(len(users)):\n",
    "    for j in range(len(jobs)):\n",
    "        scores_array[i,j] = (user_preferences_0_array[i][j] + user_eligibility_array[i][j] ) * y[(i,j)].varValue\n",
    "\n",
    "scores_array"
   ]
  },
  {
   "cell_type": "code",
   "execution_count": 82,
   "id": "99edee28",
   "metadata": {},
   "outputs": [
    {
     "name": "stdout",
     "output_type": "stream",
     "text": [
      " The sum of values of this matrix i.e.  672  is the maximum score possible for in the solution space. This is what the LPP has optimized for\n"
     ]
    }
   ],
   "source": [
    "print(\" The sum of values of this matrix i.e. \", scores_array.sum(), \" is the maximum score possible for in the solution space. This is what the LPP has optimized for\")"
   ]
  },
  {
   "cell_type": "markdown",
   "id": "850cce5a",
   "metadata": {},
   "source": [
    "### Results with provided scores :"
   ]
  },
  {
   "cell_type": "markdown",
   "id": "4ed04d3b",
   "metadata": {},
   "source": [
    "This is to show the results with the user elegibilty scores, user prefernces score and the matching "
   ]
  },
  {
   "cell_type": "code",
   "execution_count": 83,
   "id": "c06a2dae",
   "metadata": {},
   "outputs": [],
   "source": [
    "## Concatenating the eligibilty and the preference scores:\n",
    "results_df =  user_eligibility.copy()\n",
    "for colnames  in results_df.columns[range(1,len(results_df.columns))]:\n",
    "    results_df[colnames] = user_eligibility[colnames].astype('str') + \",\" + user_preferences[colnames].astype('str')"
   ]
  },
  {
   "cell_type": "markdown",
   "id": "6b7fa6c8",
   "metadata": {},
   "source": [
    "#####  Results with highlighted cells : "
   ]
  },
  {
   "cell_type": "code",
   "execution_count": 84,
   "id": "7128aaf6",
   "metadata": {},
   "outputs": [
    {
     "data": {
      "text/html": [
       "<style type=\"text/css\">\n",
       "#T_8ab7d_row1_col2, #T_8ab7d_row2_col3, #T_8ab7d_row3_col4, #T_8ab7d_row4_col1, #T_8ab7d_row6_col5, #T_8ab7d_row7_col2, #T_8ab7d_row8_col5, #T_8ab7d_row10_col1, #T_8ab7d_row11_col3, #T_8ab7d_row12_col4, #T_8ab7d_row13_col5, #T_8ab7d_row14_col1, #T_8ab7d_row15_col1 {\n",
       "  background-color: yellow;\n",
       "}\n",
       "</style>\n",
       "<table id=\"T_8ab7d\">\n",
       "  <thead>\n",
       "    <tr>\n",
       "      <th class=\"blank level0\" >&nbsp;</th>\n",
       "      <th id=\"T_8ab7d_level0_col0\" class=\"col_heading level0 col0\" >Candidate</th>\n",
       "      <th id=\"T_8ab7d_level0_col1\" class=\"col_heading level0 col1\" >Panchkula</th>\n",
       "      <th id=\"T_8ab7d_level0_col2\" class=\"col_heading level0 col2\" >Ambala</th>\n",
       "      <th id=\"T_8ab7d_level0_col3\" class=\"col_heading level0 col3\" >Faridabad</th>\n",
       "      <th id=\"T_8ab7d_level0_col4\" class=\"col_heading level0 col4\" >Gurgaon</th>\n",
       "      <th id=\"T_8ab7d_level0_col5\" class=\"col_heading level0 col5\" >Panipat</th>\n",
       "    </tr>\n",
       "  </thead>\n",
       "  <tbody>\n",
       "    <tr>\n",
       "      <th id=\"T_8ab7d_level0_row0\" class=\"row_heading level0 row0\" >0</th>\n",
       "      <td id=\"T_8ab7d_row0_col0\" class=\"data row0 col0\" >A</td>\n",
       "      <td id=\"T_8ab7d_row0_col1\" class=\"data row0 col1\" >2,50</td>\n",
       "      <td id=\"T_8ab7d_row0_col2\" class=\"data row0 col2\" >2,40</td>\n",
       "      <td id=\"T_8ab7d_row0_col3\" class=\"data row0 col3\" >2,10</td>\n",
       "      <td id=\"T_8ab7d_row0_col4\" class=\"data row0 col4\" >2,20</td>\n",
       "      <td id=\"T_8ab7d_row0_col5\" class=\"data row0 col5\" >2,30</td>\n",
       "    </tr>\n",
       "    <tr>\n",
       "      <th id=\"T_8ab7d_level0_row1\" class=\"row_heading level0 row1\" >1</th>\n",
       "      <td id=\"T_8ab7d_row1_col0\" class=\"data row1 col0\" >B</td>\n",
       "      <td id=\"T_8ab7d_row1_col1\" class=\"data row1 col1\" >4,40</td>\n",
       "      <td id=\"T_8ab7d_row1_col2\" class=\"data row1 col2\" >4,50</td>\n",
       "      <td id=\"T_8ab7d_row1_col3\" class=\"data row1 col3\" >4,10</td>\n",
       "      <td id=\"T_8ab7d_row1_col4\" class=\"data row1 col4\" >4,20</td>\n",
       "      <td id=\"T_8ab7d_row1_col5\" class=\"data row1 col5\" >4,30</td>\n",
       "    </tr>\n",
       "    <tr>\n",
       "      <th id=\"T_8ab7d_level0_row2\" class=\"row_heading level0 row2\" >2</th>\n",
       "      <td id=\"T_8ab7d_row2_col0\" class=\"data row2 col0\" >C</td>\n",
       "      <td id=\"T_8ab7d_row2_col1\" class=\"data row2 col1\" >5,40</td>\n",
       "      <td id=\"T_8ab7d_row2_col2\" class=\"data row2 col2\" >5,30</td>\n",
       "      <td id=\"T_8ab7d_row2_col3\" class=\"data row2 col3\" >5,50</td>\n",
       "      <td id=\"T_8ab7d_row2_col4\" class=\"data row2 col4\" >5,10</td>\n",
       "      <td id=\"T_8ab7d_row2_col5\" class=\"data row2 col5\" >5,20</td>\n",
       "    </tr>\n",
       "    <tr>\n",
       "      <th id=\"T_8ab7d_level0_row3\" class=\"row_heading level0 row3\" >3</th>\n",
       "      <td id=\"T_8ab7d_row3_col0\" class=\"data row3 col0\" >D</td>\n",
       "      <td id=\"T_8ab7d_row3_col1\" class=\"data row3 col1\" >2,40</td>\n",
       "      <td id=\"T_8ab7d_row3_col2\" class=\"data row3 col2\" >2,30</td>\n",
       "      <td id=\"T_8ab7d_row3_col3\" class=\"data row3 col3\" >2,10</td>\n",
       "      <td id=\"T_8ab7d_row3_col4\" class=\"data row3 col4\" >2,50</td>\n",
       "      <td id=\"T_8ab7d_row3_col5\" class=\"data row3 col5\" >2,20</td>\n",
       "    </tr>\n",
       "    <tr>\n",
       "      <th id=\"T_8ab7d_level0_row4\" class=\"row_heading level0 row4\" >4</th>\n",
       "      <td id=\"T_8ab7d_row4_col0\" class=\"data row4 col0\" >E</td>\n",
       "      <td id=\"T_8ab7d_row4_col1\" class=\"data row4 col1\" >6,50</td>\n",
       "      <td id=\"T_8ab7d_row4_col2\" class=\"data row4 col2\" >6,40</td>\n",
       "      <td id=\"T_8ab7d_row4_col3\" class=\"data row4 col3\" >6,10</td>\n",
       "      <td id=\"T_8ab7d_row4_col4\" class=\"data row4 col4\" >6,20</td>\n",
       "      <td id=\"T_8ab7d_row4_col5\" class=\"data row4 col5\" >6,30</td>\n",
       "    </tr>\n",
       "    <tr>\n",
       "      <th id=\"T_8ab7d_level0_row5\" class=\"row_heading level0 row5\" >5</th>\n",
       "      <td id=\"T_8ab7d_row5_col0\" class=\"data row5 col0\" >F</td>\n",
       "      <td id=\"T_8ab7d_row5_col1\" class=\"data row5 col1\" >2,50</td>\n",
       "      <td id=\"T_8ab7d_row5_col2\" class=\"data row5 col2\" >2,50</td>\n",
       "      <td id=\"T_8ab7d_row5_col3\" class=\"data row5 col3\" >2,20</td>\n",
       "      <td id=\"T_8ab7d_row5_col4\" class=\"data row5 col4\" >2,30</td>\n",
       "      <td id=\"T_8ab7d_row5_col5\" class=\"data row5 col5\" >2,20</td>\n",
       "    </tr>\n",
       "    <tr>\n",
       "      <th id=\"T_8ab7d_level0_row6\" class=\"row_heading level0 row6\" >6</th>\n",
       "      <td id=\"T_8ab7d_row6_col0\" class=\"data row6 col0\" >G</td>\n",
       "      <td id=\"T_8ab7d_row6_col1\" class=\"data row6 col1\" >4,40</td>\n",
       "      <td id=\"T_8ab7d_row6_col2\" class=\"data row6 col2\" >4,30</td>\n",
       "      <td id=\"T_8ab7d_row6_col3\" class=\"data row6 col3\" >4,10</td>\n",
       "      <td id=\"T_8ab7d_row6_col4\" class=\"data row6 col4\" >4,20</td>\n",
       "      <td id=\"T_8ab7d_row6_col5\" class=\"data row6 col5\" >4,50</td>\n",
       "    </tr>\n",
       "    <tr>\n",
       "      <th id=\"T_8ab7d_level0_row7\" class=\"row_heading level0 row7\" >7</th>\n",
       "      <td id=\"T_8ab7d_row7_col0\" class=\"data row7 col0\" >H</td>\n",
       "      <td id=\"T_8ab7d_row7_col1\" class=\"data row7 col1\" >8,40</td>\n",
       "      <td id=\"T_8ab7d_row7_col2\" class=\"data row7 col2\" >8,50</td>\n",
       "      <td id=\"T_8ab7d_row7_col3\" class=\"data row7 col3\" >8,10</td>\n",
       "      <td id=\"T_8ab7d_row7_col4\" class=\"data row7 col4\" >8,20</td>\n",
       "      <td id=\"T_8ab7d_row7_col5\" class=\"data row7 col5\" >8,30</td>\n",
       "    </tr>\n",
       "    <tr>\n",
       "      <th id=\"T_8ab7d_level0_row8\" class=\"row_heading level0 row8\" >8</th>\n",
       "      <td id=\"T_8ab7d_row8_col0\" class=\"data row8 col0\" >I</td>\n",
       "      <td id=\"T_8ab7d_row8_col1\" class=\"data row8 col1\" >4,50</td>\n",
       "      <td id=\"T_8ab7d_row8_col2\" class=\"data row8 col2\" >4,40</td>\n",
       "      <td id=\"T_8ab7d_row8_col3\" class=\"data row8 col3\" >4,10</td>\n",
       "      <td id=\"T_8ab7d_row8_col4\" class=\"data row8 col4\" >4,20</td>\n",
       "      <td id=\"T_8ab7d_row8_col5\" class=\"data row8 col5\" >4,30</td>\n",
       "    </tr>\n",
       "    <tr>\n",
       "      <th id=\"T_8ab7d_level0_row9\" class=\"row_heading level0 row9\" >9</th>\n",
       "      <td id=\"T_8ab7d_row9_col0\" class=\"data row9 col0\" >J</td>\n",
       "      <td id=\"T_8ab7d_row9_col1\" class=\"data row9 col1\" >3,50</td>\n",
       "      <td id=\"T_8ab7d_row9_col2\" class=\"data row9 col2\" >3,40</td>\n",
       "      <td id=\"T_8ab7d_row9_col3\" class=\"data row9 col3\" >3,10</td>\n",
       "      <td id=\"T_8ab7d_row9_col4\" class=\"data row9 col4\" >3,20</td>\n",
       "      <td id=\"T_8ab7d_row9_col5\" class=\"data row9 col5\" >3,30</td>\n",
       "    </tr>\n",
       "    <tr>\n",
       "      <th id=\"T_8ab7d_level0_row10\" class=\"row_heading level0 row10\" >10</th>\n",
       "      <td id=\"T_8ab7d_row10_col0\" class=\"data row10 col0\" >K</td>\n",
       "      <td id=\"T_8ab7d_row10_col1\" class=\"data row10 col1\" >5,50</td>\n",
       "      <td id=\"T_8ab7d_row10_col2\" class=\"data row10 col2\" >5,40</td>\n",
       "      <td id=\"T_8ab7d_row10_col3\" class=\"data row10 col3\" >5,10</td>\n",
       "      <td id=\"T_8ab7d_row10_col4\" class=\"data row10 col4\" >5,20</td>\n",
       "      <td id=\"T_8ab7d_row10_col5\" class=\"data row10 col5\" >5,30</td>\n",
       "    </tr>\n",
       "    <tr>\n",
       "      <th id=\"T_8ab7d_level0_row11\" class=\"row_heading level0 row11\" >11</th>\n",
       "      <td id=\"T_8ab7d_row11_col0\" class=\"data row11 col0\" >L</td>\n",
       "      <td id=\"T_8ab7d_row11_col1\" class=\"data row11 col1\" >7,40</td>\n",
       "      <td id=\"T_8ab7d_row11_col2\" class=\"data row11 col2\" >7,30</td>\n",
       "      <td id=\"T_8ab7d_row11_col3\" class=\"data row11 col3\" >7,50</td>\n",
       "      <td id=\"T_8ab7d_row11_col4\" class=\"data row11 col4\" >7,10</td>\n",
       "      <td id=\"T_8ab7d_row11_col5\" class=\"data row11 col5\" >7,20</td>\n",
       "    </tr>\n",
       "    <tr>\n",
       "      <th id=\"T_8ab7d_level0_row12\" class=\"row_heading level0 row12\" >12</th>\n",
       "      <td id=\"T_8ab7d_row12_col0\" class=\"data row12 col0\" >M</td>\n",
       "      <td id=\"T_8ab7d_row12_col1\" class=\"data row12 col1\" >2,40</td>\n",
       "      <td id=\"T_8ab7d_row12_col2\" class=\"data row12 col2\" >2,30</td>\n",
       "      <td id=\"T_8ab7d_row12_col3\" class=\"data row12 col3\" >2,10</td>\n",
       "      <td id=\"T_8ab7d_row12_col4\" class=\"data row12 col4\" >2,50</td>\n",
       "      <td id=\"T_8ab7d_row12_col5\" class=\"data row12 col5\" >2,20</td>\n",
       "    </tr>\n",
       "    <tr>\n",
       "      <th id=\"T_8ab7d_level0_row13\" class=\"row_heading level0 row13\" >13</th>\n",
       "      <td id=\"T_8ab7d_row13_col0\" class=\"data row13 col0\" >N</td>\n",
       "      <td id=\"T_8ab7d_row13_col1\" class=\"data row13 col1\" >4,50</td>\n",
       "      <td id=\"T_8ab7d_row13_col2\" class=\"data row13 col2\" >4,40</td>\n",
       "      <td id=\"T_8ab7d_row13_col3\" class=\"data row13 col3\" >4,10</td>\n",
       "      <td id=\"T_8ab7d_row13_col4\" class=\"data row13 col4\" >4,20</td>\n",
       "      <td id=\"T_8ab7d_row13_col5\" class=\"data row13 col5\" >4,30</td>\n",
       "    </tr>\n",
       "    <tr>\n",
       "      <th id=\"T_8ab7d_level0_row14\" class=\"row_heading level0 row14\" >14</th>\n",
       "      <td id=\"T_8ab7d_row14_col0\" class=\"data row14 col0\" >O</td>\n",
       "      <td id=\"T_8ab7d_row14_col1\" class=\"data row14 col1\" >6,50</td>\n",
       "      <td id=\"T_8ab7d_row14_col2\" class=\"data row14 col2\" >6,40</td>\n",
       "      <td id=\"T_8ab7d_row14_col3\" class=\"data row14 col3\" >6,10</td>\n",
       "      <td id=\"T_8ab7d_row14_col4\" class=\"data row14 col4\" >6,20</td>\n",
       "      <td id=\"T_8ab7d_row14_col5\" class=\"data row14 col5\" >6,30</td>\n",
       "    </tr>\n",
       "    <tr>\n",
       "      <th id=\"T_8ab7d_level0_row15\" class=\"row_heading level0 row15\" >15</th>\n",
       "      <td id=\"T_8ab7d_row15_col0\" class=\"data row15 col0\" >P</td>\n",
       "      <td id=\"T_8ab7d_row15_col1\" class=\"data row15 col1\" >5,50</td>\n",
       "      <td id=\"T_8ab7d_row15_col2\" class=\"data row15 col2\" >5,40</td>\n",
       "      <td id=\"T_8ab7d_row15_col3\" class=\"data row15 col3\" >5,10</td>\n",
       "      <td id=\"T_8ab7d_row15_col4\" class=\"data row15 col4\" >5,20</td>\n",
       "      <td id=\"T_8ab7d_row15_col5\" class=\"data row15 col5\" >5,30</td>\n",
       "    </tr>\n",
       "  </tbody>\n",
       "</table>\n"
      ],
      "text/plain": [
       "<pandas.io.formats.style.Styler at 0x1643abb1370>"
      ]
     },
     "execution_count": 84,
     "metadata": {},
     "output_type": "execute_result"
    }
   ],
   "source": [
    "\n",
    "style_df = (\n",
    "        matches_df == 1                  # Compare DataFrames\n",
    ").replace({\n",
    "    True: 'background-color:yellow',  # True Styles\n",
    "    False: ''                      # False Styles\n",
    "})\n",
    "\n",
    "results_df =  results_df.style.apply(lambda _: style_df, axis=None)\n",
    "results_df"
   ]
  },
  {
   "cell_type": "markdown",
   "id": "0286cc7b",
   "metadata": {},
   "source": [
    "## Caste constraints : "
   ]
  },
  {
   "cell_type": "markdown",
   "id": "630cf498",
   "metadata": {},
   "source": [
    "Caste details can be introduced as an additional constraint to the LPP based on whatever conditions are required."
   ]
  },
  {
   "cell_type": "markdown",
   "id": "afe49e1e",
   "metadata": {},
   "source": [
    "Assuming that users  A, F, J  belong to SC caste:  "
   ]
  },
  {
   "cell_type": "code",
   "execution_count": 85,
   "id": "199e54a0",
   "metadata": {},
   "outputs": [],
   "source": [
    "user_SC_index =  [0,5,9]"
   ]
  },
  {
   "cell_type": "markdown",
   "id": "c11fc915",
   "metadata": {},
   "source": [
    "Assuming that out of the total, **2** jobs are reserved for SC:"
   ]
  },
  {
   "cell_type": "code",
   "execution_count": 91,
   "id": "4f00322f",
   "metadata": {},
   "outputs": [],
   "source": [
    "SC_required =  2"
   ]
  },
  {
   "cell_type": "markdown",
   "id": "7b394171",
   "metadata": {},
   "source": [
    "### Solving the LPP, same as above except for the additional constraint "
   ]
  },
  {
   "cell_type": "markdown",
   "id": "4486e020",
   "metadata": {},
   "source": [
    "#### Decision variable: "
   ]
  },
  {
   "cell_type": "markdown",
   "id": "f7487aa5",
   "metadata": {},
   "source": [
    "Same as above"
   ]
  },
  {
   "cell_type": "code",
   "execution_count": 87,
   "id": "4e65593d",
   "metadata": {},
   "outputs": [],
   "source": [
    "prob = LpProblem(\"Matching Jobs\", LpMaximize)\n",
    "y = LpVariable.dicts(\"pair\", [(i,j)  for i in range(len(users)) for j in range(len(jobs)) ] ,cat='Binary')"
   ]
  },
  {
   "cell_type": "markdown",
   "id": "cad106c9",
   "metadata": {},
   "source": [
    "####  Maximization problem (objective function) : "
   ]
  },
  {
   "cell_type": "markdown",
   "id": "ae77405d",
   "metadata": {},
   "source": [
    "Same as above"
   ]
  },
  {
   "cell_type": "code",
   "execution_count": 88,
   "id": "647f0db6",
   "metadata": {},
   "outputs": [],
   "source": [
    "prob += lpSum([ (user_preferences_0_array[i][j] + user_eligibility_array[i][j]) * y[(i,j)] for i in range(len(users)) for j in range(len(jobs)) ])"
   ]
  },
  {
   "cell_type": "markdown",
   "id": "24508c8b",
   "metadata": {},
   "source": [
    "### Contraints:"
   ]
  },
  {
   "cell_type": "markdown",
   "id": "4bb4e220",
   "metadata": {},
   "source": [
    "An additional constraint for the caste is included here"
   ]
  },
  {
   "cell_type": "code",
   "execution_count": 89,
   "id": "57f78721",
   "metadata": {},
   "outputs": [
    {
     "data": {
      "text/plain": [
       "1"
      ]
     },
     "execution_count": 89,
     "metadata": {},
     "output_type": "execute_result"
    }
   ],
   "source": [
    "## each person should be given only one job \n",
    "\n",
    "for i in range(len(users)):\n",
    "    prob += lpSum(y[(i,j)] for j in range(len(jobs))) <= 1\n",
    "\n",
    "## place constraints: \n",
    "for j in [0]:\n",
    "    prob += lpSum(y[(i,j)] for i in range(len(users))) == 4\n",
    "                  \n",
    "for j in [1]:\n",
    "    prob += lpSum(y[(i,j)] for i in range(len(users))) == 2     \n",
    "                  \n",
    "for j in [2]:\n",
    "    prob += lpSum(y[(i,j)] for i in range(len(users))) == 2     \n",
    "                  \n",
    "for j in [3]:\n",
    "    prob += lpSum(y[(i,j)] for i in range(len(users))) == 2     \n",
    "\n",
    "for j in [4]:\n",
    "    prob += lpSum(y[(i,j)] for i in range(len(users))) == 3    \n",
    "    \n",
    "    \n",
    "## SC constraints: \n",
    "\n",
    "prob += lpSum([  y[(i,j)] for i in user_SC_index for j in range(len(jobs))  ]) == SC_required\n",
    "    \n",
    "## Solving the LPP \n",
    "prob.solve()"
   ]
  },
  {
   "cell_type": "markdown",
   "id": "3b673538",
   "metadata": {},
   "source": [
    "### Looking at the results:"
   ]
  },
  {
   "cell_type": "code",
   "execution_count": 90,
   "id": "2dc289cd",
   "metadata": {},
   "outputs": [
    {
     "data": {
      "text/html": [
       "<style type=\"text/css\">\n",
       "#T_40949_row0_col5, #T_40949_row1_col2, #T_40949_row2_col3, #T_40949_row3_col4, #T_40949_row4_col1, #T_40949_row6_col5, #T_40949_row7_col2, #T_40949_row9_col1, #T_40949_row10_col5, #T_40949_row11_col3, #T_40949_row12_col4, #T_40949_row14_col1, #T_40949_row15_col1 {\n",
       "  background-color: yellow;\n",
       "}\n",
       "</style>\n",
       "<table id=\"T_40949\">\n",
       "  <thead>\n",
       "    <tr>\n",
       "      <th class=\"blank level0\" >&nbsp;</th>\n",
       "      <th id=\"T_40949_level0_col0\" class=\"col_heading level0 col0\" >Candidate</th>\n",
       "      <th id=\"T_40949_level0_col1\" class=\"col_heading level0 col1\" >Panchkula</th>\n",
       "      <th id=\"T_40949_level0_col2\" class=\"col_heading level0 col2\" >Ambala</th>\n",
       "      <th id=\"T_40949_level0_col3\" class=\"col_heading level0 col3\" >Faridabad</th>\n",
       "      <th id=\"T_40949_level0_col4\" class=\"col_heading level0 col4\" >Gurgaon</th>\n",
       "      <th id=\"T_40949_level0_col5\" class=\"col_heading level0 col5\" >Panipat</th>\n",
       "    </tr>\n",
       "  </thead>\n",
       "  <tbody>\n",
       "    <tr>\n",
       "      <th id=\"T_40949_level0_row0\" class=\"row_heading level0 row0\" >0</th>\n",
       "      <td id=\"T_40949_row0_col0\" class=\"data row0 col0\" >A</td>\n",
       "      <td id=\"T_40949_row0_col1\" class=\"data row0 col1\" >2,50</td>\n",
       "      <td id=\"T_40949_row0_col2\" class=\"data row0 col2\" >2,40</td>\n",
       "      <td id=\"T_40949_row0_col3\" class=\"data row0 col3\" >2,10</td>\n",
       "      <td id=\"T_40949_row0_col4\" class=\"data row0 col4\" >2,20</td>\n",
       "      <td id=\"T_40949_row0_col5\" class=\"data row0 col5\" >2,30</td>\n",
       "    </tr>\n",
       "    <tr>\n",
       "      <th id=\"T_40949_level0_row1\" class=\"row_heading level0 row1\" >1</th>\n",
       "      <td id=\"T_40949_row1_col0\" class=\"data row1 col0\" >B</td>\n",
       "      <td id=\"T_40949_row1_col1\" class=\"data row1 col1\" >4,40</td>\n",
       "      <td id=\"T_40949_row1_col2\" class=\"data row1 col2\" >4,50</td>\n",
       "      <td id=\"T_40949_row1_col3\" class=\"data row1 col3\" >4,10</td>\n",
       "      <td id=\"T_40949_row1_col4\" class=\"data row1 col4\" >4,20</td>\n",
       "      <td id=\"T_40949_row1_col5\" class=\"data row1 col5\" >4,30</td>\n",
       "    </tr>\n",
       "    <tr>\n",
       "      <th id=\"T_40949_level0_row2\" class=\"row_heading level0 row2\" >2</th>\n",
       "      <td id=\"T_40949_row2_col0\" class=\"data row2 col0\" >C</td>\n",
       "      <td id=\"T_40949_row2_col1\" class=\"data row2 col1\" >5,40</td>\n",
       "      <td id=\"T_40949_row2_col2\" class=\"data row2 col2\" >5,30</td>\n",
       "      <td id=\"T_40949_row2_col3\" class=\"data row2 col3\" >5,50</td>\n",
       "      <td id=\"T_40949_row2_col4\" class=\"data row2 col4\" >5,10</td>\n",
       "      <td id=\"T_40949_row2_col5\" class=\"data row2 col5\" >5,20</td>\n",
       "    </tr>\n",
       "    <tr>\n",
       "      <th id=\"T_40949_level0_row3\" class=\"row_heading level0 row3\" >3</th>\n",
       "      <td id=\"T_40949_row3_col0\" class=\"data row3 col0\" >D</td>\n",
       "      <td id=\"T_40949_row3_col1\" class=\"data row3 col1\" >2,40</td>\n",
       "      <td id=\"T_40949_row3_col2\" class=\"data row3 col2\" >2,30</td>\n",
       "      <td id=\"T_40949_row3_col3\" class=\"data row3 col3\" >2,10</td>\n",
       "      <td id=\"T_40949_row3_col4\" class=\"data row3 col4\" >2,50</td>\n",
       "      <td id=\"T_40949_row3_col5\" class=\"data row3 col5\" >2,20</td>\n",
       "    </tr>\n",
       "    <tr>\n",
       "      <th id=\"T_40949_level0_row4\" class=\"row_heading level0 row4\" >4</th>\n",
       "      <td id=\"T_40949_row4_col0\" class=\"data row4 col0\" >E</td>\n",
       "      <td id=\"T_40949_row4_col1\" class=\"data row4 col1\" >6,50</td>\n",
       "      <td id=\"T_40949_row4_col2\" class=\"data row4 col2\" >6,40</td>\n",
       "      <td id=\"T_40949_row4_col3\" class=\"data row4 col3\" >6,10</td>\n",
       "      <td id=\"T_40949_row4_col4\" class=\"data row4 col4\" >6,20</td>\n",
       "      <td id=\"T_40949_row4_col5\" class=\"data row4 col5\" >6,30</td>\n",
       "    </tr>\n",
       "    <tr>\n",
       "      <th id=\"T_40949_level0_row5\" class=\"row_heading level0 row5\" >5</th>\n",
       "      <td id=\"T_40949_row5_col0\" class=\"data row5 col0\" >F</td>\n",
       "      <td id=\"T_40949_row5_col1\" class=\"data row5 col1\" >2,50</td>\n",
       "      <td id=\"T_40949_row5_col2\" class=\"data row5 col2\" >2,50</td>\n",
       "      <td id=\"T_40949_row5_col3\" class=\"data row5 col3\" >2,20</td>\n",
       "      <td id=\"T_40949_row5_col4\" class=\"data row5 col4\" >2,30</td>\n",
       "      <td id=\"T_40949_row5_col5\" class=\"data row5 col5\" >2,20</td>\n",
       "    </tr>\n",
       "    <tr>\n",
       "      <th id=\"T_40949_level0_row6\" class=\"row_heading level0 row6\" >6</th>\n",
       "      <td id=\"T_40949_row6_col0\" class=\"data row6 col0\" >G</td>\n",
       "      <td id=\"T_40949_row6_col1\" class=\"data row6 col1\" >4,40</td>\n",
       "      <td id=\"T_40949_row6_col2\" class=\"data row6 col2\" >4,30</td>\n",
       "      <td id=\"T_40949_row6_col3\" class=\"data row6 col3\" >4,10</td>\n",
       "      <td id=\"T_40949_row6_col4\" class=\"data row6 col4\" >4,20</td>\n",
       "      <td id=\"T_40949_row6_col5\" class=\"data row6 col5\" >4,50</td>\n",
       "    </tr>\n",
       "    <tr>\n",
       "      <th id=\"T_40949_level0_row7\" class=\"row_heading level0 row7\" >7</th>\n",
       "      <td id=\"T_40949_row7_col0\" class=\"data row7 col0\" >H</td>\n",
       "      <td id=\"T_40949_row7_col1\" class=\"data row7 col1\" >8,40</td>\n",
       "      <td id=\"T_40949_row7_col2\" class=\"data row7 col2\" >8,50</td>\n",
       "      <td id=\"T_40949_row7_col3\" class=\"data row7 col3\" >8,10</td>\n",
       "      <td id=\"T_40949_row7_col4\" class=\"data row7 col4\" >8,20</td>\n",
       "      <td id=\"T_40949_row7_col5\" class=\"data row7 col5\" >8,30</td>\n",
       "    </tr>\n",
       "    <tr>\n",
       "      <th id=\"T_40949_level0_row8\" class=\"row_heading level0 row8\" >8</th>\n",
       "      <td id=\"T_40949_row8_col0\" class=\"data row8 col0\" >I</td>\n",
       "      <td id=\"T_40949_row8_col1\" class=\"data row8 col1\" >4,50</td>\n",
       "      <td id=\"T_40949_row8_col2\" class=\"data row8 col2\" >4,40</td>\n",
       "      <td id=\"T_40949_row8_col3\" class=\"data row8 col3\" >4,10</td>\n",
       "      <td id=\"T_40949_row8_col4\" class=\"data row8 col4\" >4,20</td>\n",
       "      <td id=\"T_40949_row8_col5\" class=\"data row8 col5\" >4,30</td>\n",
       "    </tr>\n",
       "    <tr>\n",
       "      <th id=\"T_40949_level0_row9\" class=\"row_heading level0 row9\" >9</th>\n",
       "      <td id=\"T_40949_row9_col0\" class=\"data row9 col0\" >J</td>\n",
       "      <td id=\"T_40949_row9_col1\" class=\"data row9 col1\" >3,50</td>\n",
       "      <td id=\"T_40949_row9_col2\" class=\"data row9 col2\" >3,40</td>\n",
       "      <td id=\"T_40949_row9_col3\" class=\"data row9 col3\" >3,10</td>\n",
       "      <td id=\"T_40949_row9_col4\" class=\"data row9 col4\" >3,20</td>\n",
       "      <td id=\"T_40949_row9_col5\" class=\"data row9 col5\" >3,30</td>\n",
       "    </tr>\n",
       "    <tr>\n",
       "      <th id=\"T_40949_level0_row10\" class=\"row_heading level0 row10\" >10</th>\n",
       "      <td id=\"T_40949_row10_col0\" class=\"data row10 col0\" >K</td>\n",
       "      <td id=\"T_40949_row10_col1\" class=\"data row10 col1\" >5,50</td>\n",
       "      <td id=\"T_40949_row10_col2\" class=\"data row10 col2\" >5,40</td>\n",
       "      <td id=\"T_40949_row10_col3\" class=\"data row10 col3\" >5,10</td>\n",
       "      <td id=\"T_40949_row10_col4\" class=\"data row10 col4\" >5,20</td>\n",
       "      <td id=\"T_40949_row10_col5\" class=\"data row10 col5\" >5,30</td>\n",
       "    </tr>\n",
       "    <tr>\n",
       "      <th id=\"T_40949_level0_row11\" class=\"row_heading level0 row11\" >11</th>\n",
       "      <td id=\"T_40949_row11_col0\" class=\"data row11 col0\" >L</td>\n",
       "      <td id=\"T_40949_row11_col1\" class=\"data row11 col1\" >7,40</td>\n",
       "      <td id=\"T_40949_row11_col2\" class=\"data row11 col2\" >7,30</td>\n",
       "      <td id=\"T_40949_row11_col3\" class=\"data row11 col3\" >7,50</td>\n",
       "      <td id=\"T_40949_row11_col4\" class=\"data row11 col4\" >7,10</td>\n",
       "      <td id=\"T_40949_row11_col5\" class=\"data row11 col5\" >7,20</td>\n",
       "    </tr>\n",
       "    <tr>\n",
       "      <th id=\"T_40949_level0_row12\" class=\"row_heading level0 row12\" >12</th>\n",
       "      <td id=\"T_40949_row12_col0\" class=\"data row12 col0\" >M</td>\n",
       "      <td id=\"T_40949_row12_col1\" class=\"data row12 col1\" >2,40</td>\n",
       "      <td id=\"T_40949_row12_col2\" class=\"data row12 col2\" >2,30</td>\n",
       "      <td id=\"T_40949_row12_col3\" class=\"data row12 col3\" >2,10</td>\n",
       "      <td id=\"T_40949_row12_col4\" class=\"data row12 col4\" >2,50</td>\n",
       "      <td id=\"T_40949_row12_col5\" class=\"data row12 col5\" >2,20</td>\n",
       "    </tr>\n",
       "    <tr>\n",
       "      <th id=\"T_40949_level0_row13\" class=\"row_heading level0 row13\" >13</th>\n",
       "      <td id=\"T_40949_row13_col0\" class=\"data row13 col0\" >N</td>\n",
       "      <td id=\"T_40949_row13_col1\" class=\"data row13 col1\" >4,50</td>\n",
       "      <td id=\"T_40949_row13_col2\" class=\"data row13 col2\" >4,40</td>\n",
       "      <td id=\"T_40949_row13_col3\" class=\"data row13 col3\" >4,10</td>\n",
       "      <td id=\"T_40949_row13_col4\" class=\"data row13 col4\" >4,20</td>\n",
       "      <td id=\"T_40949_row13_col5\" class=\"data row13 col5\" >4,30</td>\n",
       "    </tr>\n",
       "    <tr>\n",
       "      <th id=\"T_40949_level0_row14\" class=\"row_heading level0 row14\" >14</th>\n",
       "      <td id=\"T_40949_row14_col0\" class=\"data row14 col0\" >O</td>\n",
       "      <td id=\"T_40949_row14_col1\" class=\"data row14 col1\" >6,50</td>\n",
       "      <td id=\"T_40949_row14_col2\" class=\"data row14 col2\" >6,40</td>\n",
       "      <td id=\"T_40949_row14_col3\" class=\"data row14 col3\" >6,10</td>\n",
       "      <td id=\"T_40949_row14_col4\" class=\"data row14 col4\" >6,20</td>\n",
       "      <td id=\"T_40949_row14_col5\" class=\"data row14 col5\" >6,30</td>\n",
       "    </tr>\n",
       "    <tr>\n",
       "      <th id=\"T_40949_level0_row15\" class=\"row_heading level0 row15\" >15</th>\n",
       "      <td id=\"T_40949_row15_col0\" class=\"data row15 col0\" >P</td>\n",
       "      <td id=\"T_40949_row15_col1\" class=\"data row15 col1\" >5,50</td>\n",
       "      <td id=\"T_40949_row15_col2\" class=\"data row15 col2\" >5,40</td>\n",
       "      <td id=\"T_40949_row15_col3\" class=\"data row15 col3\" >5,10</td>\n",
       "      <td id=\"T_40949_row15_col4\" class=\"data row15 col4\" >5,20</td>\n",
       "      <td id=\"T_40949_row15_col5\" class=\"data row15 col5\" >5,30</td>\n",
       "    </tr>\n",
       "  </tbody>\n",
       "</table>\n"
      ],
      "text/plain": [
       "<pandas.io.formats.style.Styler at 0x1643ac6e310>"
      ]
     },
     "execution_count": 90,
     "metadata": {},
     "output_type": "execute_result"
    }
   ],
   "source": [
    "matches_array =  user_preferences_0_array.copy()\n",
    "matches_array[:,:] = 0\n",
    "\n",
    "for i in range(len(users)):\n",
    "    for j in range(len(jobs)):\n",
    "        matches_array[i,j] =  y[(i,j)].varValue \n",
    "        \n",
    "matches_df =  pd.DataFrame(matches_array, columns =  user_eligibility.columns[range(1,user_eligibility.shape[1] )] )\n",
    "matches_df['Candidate'] = user_eligibility[\"Candidate\"]\n",
    "matches_df =matches_df[user_eligibility.columns]\n",
    "matches_df\n",
    "\n",
    "results_df =  user_eligibility.copy()\n",
    "for colnames  in results_df.columns[range(1,len(results_df.columns))]:\n",
    "    results_df[colnames] = user_eligibility[colnames].astype('str') + \",\" + user_preferences[colnames].astype('str')\n",
    "\n",
    "    \n",
    "style_df = (\n",
    "        matches_df == 1                  # Compare DataFrames\n",
    ").replace({\n",
    "    True: 'background-color:yellow',  # True Styles\n",
    "    False: ''                      # False Styles\n",
    "})    \n",
    "    \n",
    "\n",
    "results_df =  results_df.style.apply(lambda _: style_df, axis=None)\n",
    "results_df"
   ]
  },
  {
   "cell_type": "code",
   "execution_count": 93,
   "id": "109f0900",
   "metadata": {},
   "outputs": [
    {
     "data": {
      "text/html": [
       "<div>\n",
       "<style scoped>\n",
       "    .dataframe tbody tr th:only-of-type {\n",
       "        vertical-align: middle;\n",
       "    }\n",
       "\n",
       "    .dataframe tbody tr th {\n",
       "        vertical-align: top;\n",
       "    }\n",
       "\n",
       "    .dataframe thead th {\n",
       "        text-align: right;\n",
       "    }\n",
       "</style>\n",
       "<table border=\"1\" class=\"dataframe\">\n",
       "  <thead>\n",
       "    <tr style=\"text-align: right;\">\n",
       "      <th></th>\n",
       "      <th>Candidate</th>\n",
       "      <th>Panchkula</th>\n",
       "      <th>Ambala</th>\n",
       "      <th>Faridabad</th>\n",
       "      <th>Gurgaon</th>\n",
       "      <th>Panipat</th>\n",
       "    </tr>\n",
       "  </thead>\n",
       "  <tbody>\n",
       "    <tr>\n",
       "      <th>0</th>\n",
       "      <td>A</td>\n",
       "      <td>0</td>\n",
       "      <td>0</td>\n",
       "      <td>0</td>\n",
       "      <td>0</td>\n",
       "      <td>1</td>\n",
       "    </tr>\n",
       "    <tr>\n",
       "      <th>1</th>\n",
       "      <td>B</td>\n",
       "      <td>0</td>\n",
       "      <td>1</td>\n",
       "      <td>0</td>\n",
       "      <td>0</td>\n",
       "      <td>0</td>\n",
       "    </tr>\n",
       "    <tr>\n",
       "      <th>2</th>\n",
       "      <td>C</td>\n",
       "      <td>0</td>\n",
       "      <td>0</td>\n",
       "      <td>1</td>\n",
       "      <td>0</td>\n",
       "      <td>0</td>\n",
       "    </tr>\n",
       "    <tr>\n",
       "      <th>3</th>\n",
       "      <td>D</td>\n",
       "      <td>0</td>\n",
       "      <td>0</td>\n",
       "      <td>0</td>\n",
       "      <td>1</td>\n",
       "      <td>0</td>\n",
       "    </tr>\n",
       "    <tr>\n",
       "      <th>4</th>\n",
       "      <td>E</td>\n",
       "      <td>1</td>\n",
       "      <td>0</td>\n",
       "      <td>0</td>\n",
       "      <td>0</td>\n",
       "      <td>0</td>\n",
       "    </tr>\n",
       "    <tr>\n",
       "      <th>5</th>\n",
       "      <td>F</td>\n",
       "      <td>0</td>\n",
       "      <td>0</td>\n",
       "      <td>0</td>\n",
       "      <td>0</td>\n",
       "      <td>0</td>\n",
       "    </tr>\n",
       "    <tr>\n",
       "      <th>6</th>\n",
       "      <td>G</td>\n",
       "      <td>0</td>\n",
       "      <td>0</td>\n",
       "      <td>0</td>\n",
       "      <td>0</td>\n",
       "      <td>1</td>\n",
       "    </tr>\n",
       "    <tr>\n",
       "      <th>7</th>\n",
       "      <td>H</td>\n",
       "      <td>0</td>\n",
       "      <td>1</td>\n",
       "      <td>0</td>\n",
       "      <td>0</td>\n",
       "      <td>0</td>\n",
       "    </tr>\n",
       "    <tr>\n",
       "      <th>8</th>\n",
       "      <td>I</td>\n",
       "      <td>0</td>\n",
       "      <td>0</td>\n",
       "      <td>0</td>\n",
       "      <td>0</td>\n",
       "      <td>0</td>\n",
       "    </tr>\n",
       "    <tr>\n",
       "      <th>9</th>\n",
       "      <td>J</td>\n",
       "      <td>1</td>\n",
       "      <td>0</td>\n",
       "      <td>0</td>\n",
       "      <td>0</td>\n",
       "      <td>0</td>\n",
       "    </tr>\n",
       "    <tr>\n",
       "      <th>10</th>\n",
       "      <td>K</td>\n",
       "      <td>0</td>\n",
       "      <td>0</td>\n",
       "      <td>0</td>\n",
       "      <td>0</td>\n",
       "      <td>1</td>\n",
       "    </tr>\n",
       "    <tr>\n",
       "      <th>11</th>\n",
       "      <td>L</td>\n",
       "      <td>0</td>\n",
       "      <td>0</td>\n",
       "      <td>1</td>\n",
       "      <td>0</td>\n",
       "      <td>0</td>\n",
       "    </tr>\n",
       "    <tr>\n",
       "      <th>12</th>\n",
       "      <td>M</td>\n",
       "      <td>0</td>\n",
       "      <td>0</td>\n",
       "      <td>0</td>\n",
       "      <td>1</td>\n",
       "      <td>0</td>\n",
       "    </tr>\n",
       "    <tr>\n",
       "      <th>13</th>\n",
       "      <td>N</td>\n",
       "      <td>0</td>\n",
       "      <td>0</td>\n",
       "      <td>0</td>\n",
       "      <td>0</td>\n",
       "      <td>0</td>\n",
       "    </tr>\n",
       "    <tr>\n",
       "      <th>14</th>\n",
       "      <td>O</td>\n",
       "      <td>1</td>\n",
       "      <td>0</td>\n",
       "      <td>0</td>\n",
       "      <td>0</td>\n",
       "      <td>0</td>\n",
       "    </tr>\n",
       "    <tr>\n",
       "      <th>15</th>\n",
       "      <td>P</td>\n",
       "      <td>1</td>\n",
       "      <td>0</td>\n",
       "      <td>0</td>\n",
       "      <td>0</td>\n",
       "      <td>0</td>\n",
       "    </tr>\n",
       "  </tbody>\n",
       "</table>\n",
       "</div>"
      ],
      "text/plain": [
       "   Candidate  Panchkula  Ambala  Faridabad  Gurgaon  Panipat\n",
       "0          A          0       0          0        0        1\n",
       "1          B          0       1          0        0        0\n",
       "2          C          0       0          1        0        0\n",
       "3          D          0       0          0        1        0\n",
       "4          E          1       0          0        0        0\n",
       "5          F          0       0          0        0        0\n",
       "6          G          0       0          0        0        1\n",
       "7          H          0       1          0        0        0\n",
       "8          I          0       0          0        0        0\n",
       "9          J          1       0          0        0        0\n",
       "10         K          0       0          0        0        1\n",
       "11         L          0       0          1        0        0\n",
       "12         M          0       0          0        1        0\n",
       "13         N          0       0          0        0        0\n",
       "14         O          1       0          0        0        0\n",
       "15         P          1       0          0        0        0"
      ]
     },
     "execution_count": 93,
     "metadata": {},
     "output_type": "execute_result"
    }
   ],
   "source": [
    "matches_df"
   ]
  }
 ],
 "metadata": {
  "kernelspec": {
   "display_name": "Python 3 (ipykernel)",
   "language": "python",
   "name": "python3"
  },
  "language_info": {
   "codemirror_mode": {
    "name": "ipython",
    "version": 3
   },
   "file_extension": ".py",
   "mimetype": "text/x-python",
   "name": "python",
   "nbconvert_exporter": "python",
   "pygments_lexer": "ipython3",
   "version": "3.9.12"
  }
 },
 "nbformat": 4,
 "nbformat_minor": 5
}
